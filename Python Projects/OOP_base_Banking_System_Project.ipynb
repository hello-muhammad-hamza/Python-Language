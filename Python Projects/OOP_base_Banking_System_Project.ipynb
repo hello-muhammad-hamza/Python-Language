{
  "nbformat": 4,
  "nbformat_minor": 0,
  "metadata": {
    "colab": {
      "provenance": []
    },
    "kernelspec": {
      "name": "python3",
      "display_name": "Python 3"
    },
    "language_info": {
      "name": "python"
    }
  },
  "cells": [
    {
      "cell_type": "markdown",
      "source": [
        "#***💰 Welcome to the Mini Banking System***\n",
        "    A beginner-friendly Python project that simulates real-world banking features!\n",
        "\n",
        "🏦 Create accounts, deposit funds, withdraw money, and check balances with            ease  all powered by OOP.\n",
        "\n",
        "🧠 Perfect for learning core concepts while building something practical and   fun!"
      ],
      "metadata": {
        "id": "-SebKU3Srwge"
      }
    },
    {
      "cell_type": "code",
      "execution_count": 1,
      "metadata": {
        "colab": {
          "base_uri": "https://localhost:8080/"
        },
        "id": "tUOpqKtdrhq0",
        "outputId": "b5845650-f33c-4cbe-a2ab-d08948a90e49"
      },
      "outputs": [
        {
          "output_type": "stream",
          "name": "stdout",
          "text": [
            "Welcome to State Bank of Pakistan , Peshawar Saddar\n",
            "Enter Your name :Muhammad Hamza\n",
            "Enter PAN card number : 1234\n",
            "Enter Your address : Peshawar\n",
            "Hello Muhammad Hamza cong! your account craeted successfully \n",
            "\n",
            "Please Select any Option : \n",
            "1.Deposit\n",
            "2.Withdraw\n",
            "3.Ministatement\n",
            "4.Stop\n",
            " 1\n",
            "Enter Deposited amount : 10000\n",
            "10000.0 deposited successfully\n",
            "\n",
            "Please Select any Option : \n",
            "1.Deposit\n",
            "2.Withdraw\n",
            "3.Ministatement\n",
            "4.Stop\n",
            " 2\n",
            "Enter Withdraw amount : 2500\n",
            "2500.0 withdraw successfully\n",
            "\n",
            "Please Select any Option : \n",
            "1.Deposit\n",
            "2.Withdraw\n",
            "3.Ministatement\n",
            "4.Stop\n",
            " 3\n",
            "Your current account balance is 7500.0\n",
            "\n",
            "Please Select any Option : \n",
            "1.Deposit\n",
            "2.Withdraw\n",
            "3.Ministatement\n",
            "4.Stop\n",
            " 4\n",
            "Thanks for using State Bank of Pakistan .... \n"
          ]
        }
      ],
      "source": [
        "#Bank operation using OOP\n",
        "\n",
        "class Bank:\n",
        "    bankname=\"State Bank of Pakistan\"\n",
        "    branch=\"Peshawar Saddar\"\n",
        "\n",
        "    #create account\n",
        "    def __init__(self,username,pan,address):\n",
        "        self.username=username\n",
        "        self.pan=pan\n",
        "        self.address=address\n",
        "        self.balance=0.0 # set account balance to 0.0\n",
        "        print(f'Hello {self.username} cong! your account craeted successfully ')\n",
        "\n",
        "    #depoist\n",
        "    def deposit(self,amount):\n",
        "        self.balance=self.balance+amount\n",
        "        print(f'{amount} deposited successfully')\n",
        "\n",
        "    #withdraw\n",
        "    def withdraw(self,amount):\n",
        "        if amount<self.balance:\n",
        "            self.balance=self.balance-amount\n",
        "            print(f'{amount} withdraw successfully')\n",
        "        else:\n",
        "            print('Insufficent Fund...')\n",
        "\n",
        "    #ministatement\n",
        "    def ministatement(self):\n",
        "        print(f'Your current account balance is {self.balance}')\n",
        "\n",
        "\n",
        "print(f'Welcome to {Bank.bankname} , {Bank.branch}')\n",
        "#collect user data for account creation\n",
        "username=input('Enter Your name :')\n",
        "pan=input('Enter PAN card number : ')\n",
        "address=input('Enter Your address : ')\n",
        "\n",
        "b=Bank(username,pan,address) # object creation based on user provided data\n",
        "\n",
        "while True:\n",
        "    print('\\nPlease Select any Option : ')\n",
        "    print('1.Deposit\\n2.Withdraw\\n3.Ministatement\\n4.Stop')\n",
        "    option=int(input(' '))\n",
        "\n",
        "    if option==1:\n",
        "        amount=float(input('Enter Deposited amount : '))\n",
        "        b.deposit(amount)\n",
        "\n",
        "    elif option==2:\n",
        "        amount=float(input('Enter Withdraw amount : '))\n",
        "        b.withdraw(amount)\n",
        "\n",
        "    elif option==3:\n",
        "        b.ministatement()\n",
        "\n",
        "    elif option==4:\n",
        "        print('Thanks for using State Bank of Pakistan .... ')\n",
        "        break\n",
        "    else:\n",
        "        print('Invalid Option plz select a  valid option')"
      ]
    }
  ]
}