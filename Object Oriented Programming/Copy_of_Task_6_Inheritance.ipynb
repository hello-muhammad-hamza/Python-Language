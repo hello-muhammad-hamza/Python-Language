{
  "nbformat": 4,
  "nbformat_minor": 0,
  "metadata": {
    "colab": {
      "provenance": []
    },
    "kernelspec": {
      "name": "python3",
      "display_name": "Python 3"
    },
    "language_info": {
      "name": "python"
    }
  },
  "cells": [
    {
      "cell_type": "markdown",
      "source": [
        "#***🧬 INHERITANCE In Python***\n",
        "\n",
        "---\n",
        "\n",
        "###**🎯 What is Inheritance?**\n",
        "\n",
        "Inheritance is when a **class (child) can use properties and methods of another class (parent).**\n",
        "\n",
        "Just like in real life — children inherit traits from their parents."
      ],
      "metadata": {
        "id": "JLQuiaL9-wS1"
      }
    },
    {
      "cell_type": "markdown",
      "source": [
        "###**🧠 Real-Life Analogy**\n",
        "\n",
        "`Parent class: Vehicle`\n",
        "\n",
        "`Child class: Car, Bike`\n",
        "\n",
        "All vehicles have wheels, engine, fuel type\n",
        "But Car might have AC, and Bike might have helmet space\n",
        "So instead of writing the same code again, we inherit from the base class.\n",
        "\n",
        "***✅ Basic Example in Code***"
      ],
      "metadata": {
        "id": "ax_YjAsQ_INb"
      }
    },
    {
      "cell_type": "code",
      "execution_count": null,
      "metadata": {
        "colab": {
          "base_uri": "https://localhost:8080/"
        },
        "id": "2Gj6E8Xp-fEd",
        "outputId": "0786f0dc-a6a0-4aff-d518-82d0419aea85"
      },
      "outputs": [
        {
          "output_type": "stream",
          "name": "stdout",
          "text": [
            "This animal makes a sound\n",
            "Dog barks\n"
          ]
        }
      ],
      "source": [
        "class Animal:\n",
        "    def sound(self):\n",
        "        print(\"This animal makes a sound\")\n",
        "\n",
        "# Dog class inherits Animal\n",
        "class Dog(Animal):\n",
        "    def bark(self):\n",
        "        print(\"Dog barks\")\n",
        "\n",
        "# Creating object\n",
        "d = Dog()\n",
        "d.sound()  # From parent class\n",
        "d.bark()   # From child class\n"
      ]
    },
    {
      "cell_type": "markdown",
      "source": [
        "    Term\t          Meaning\n",
        "    Base Class\t    The class being inherited from\n",
        "    Derived Class \tThe class that inherits (child)\n",
        "    Reusability\t   Code is reused, cleaner & faster"
      ],
      "metadata": {
        "id": "G3C2j7XOACDB"
      }
    },
    {
      "cell_type": "markdown",
      "source": [
        "##**📚 Types of Inheritance in Python**\n",
        "\n",
        "    Type\t          Example\n",
        "\n",
        "    Single\t      One parent  →   one child\n",
        "\n",
        "    Multilevel  \t Parent     →   Child   →   Grandchild\n",
        "\n",
        "    Hierarchical\tOne parent  →   many children\n",
        "\n",
        "    Multiple\t    One child   →   inherits from many parents"
      ],
      "metadata": {
        "id": "QHo9nyrzAQh3"
      }
    },
    {
      "cell_type": "markdown",
      "source": [
        "##***✅  Let’s explore Single Inheritance using the example of***                \n",
        "###**🚗 Vehicle → Car:**\n",
        "\n",
        "We'll create a **parent class Vehicle and a child class Car** that inherits from it.\n",
        "\n",
        "`🔧 Code Example:`"
      ],
      "metadata": {
        "id": "tI7D5NoMA5CP"
      }
    },
    {
      "cell_type": "code",
      "source": [
        "class Vehicle:\n",
        "    def __init__(self, brand, model):\n",
        "        self.brand = brand\n",
        "        self.model = model\n",
        "\n",
        "    def show_info(self):\n",
        "        print(f\"Brand: {self.brand}, Model: {self.model}\")\n",
        "\n",
        "# Child class\n",
        "class Car(Vehicle):  # Inheriting from Vehicle\n",
        "    def __init__(self, brand, model, fuel_type):\n",
        "        super().__init__(brand, model)  # Call parent constructor\n",
        "        self.fuel_type = fuel_type\n",
        "\n",
        "    def show_car_info(self):\n",
        "        self.show_info()  # Calling parent method\n",
        "        print(f\"Fuel Type: {self.fuel_type}\")\n",
        "\n",
        "c1 = Car(\"Toyota\", \"Corolla\", \"Petrol\")\n",
        "c1.show_car_info()\n"
      ],
      "metadata": {
        "colab": {
          "base_uri": "https://localhost:8080/"
        },
        "id": "hFlBaUw5BSE1",
        "outputId": "69f3a568-b9a7-4aef-d58b-47284e1ea729"
      },
      "execution_count": null,
      "outputs": [
        {
          "output_type": "stream",
          "name": "stdout",
          "text": [
            "Brand: Toyota, Model: Corolla\n",
            "Fuel Type: Petrol\n"
          ]
        }
      ]
    },
    {
      "cell_type": "markdown",
      "source": [
        "**💡 Explaination of Above Code**\n",
        "\n",
        "    Line\t              What's Happening\n",
        "\n",
        "    class Vehicle:\t     Base class (parent)\n",
        "\n",
        "    class Car(Vehicle):\tInheriting Vehicle class\n",
        "\n",
        "    super().__init__()\t Calls constructor of parent class\n",
        "\n",
        "    self.show_info()\t   Calls method from parent class"
      ],
      "metadata": {
        "id": "jfmx9zk0CNrE"
      }
    },
    {
      "cell_type": "markdown",
      "source": [
        "###**📌 Why This Is Useful:**\n",
        "\n",
        "➡️ You avoid writing the same code again (like brand, model logic).\n",
        "\n",
        "➡️ You extend features of a general class (Vehicle) to a specific one (Car).\n",
        "\n",
        "➡️ Easy to scale: you can create Bike, Bus, Truck from Vehicle next time."
      ],
      "metadata": {
        "id": "oQNVicF6CkvS"
      }
    },
    {
      "cell_type": "markdown",
      "source": [
        "#***👨‍👦‍👦➡️👶 Let’s Explore Multilevel Inheritance in Python***\n"
      ],
      "metadata": {
        "id": "_gRc6djQCvAA"
      }
    },
    {
      "cell_type": "markdown",
      "source": [
        "\n",
        "###**🧠 What is Multilevel Inheritance?**\n",
        "It means a class inherits from a class, which itself inherits from another class.\n",
        "\n",
        "**It's like a family tree:**\n",
        "\n",
        "`Grandfather → Father → Son`\n",
        "\n",
        "**Or in Python:**\n",
        "\n",
        "`Class A → Class B → Class C`\n",
        "\n",
        "Each level **gets all the features from the level above** it.\n",
        "\n"
      ],
      "metadata": {
        "id": "wQwIAPTkDwrl"
      }
    },
    {
      "cell_type": "markdown",
      "source": [
        "###**✅ Real-World Example: Device → Laptop → GamingLaptop**\n",
        "\n",
        "Let's say:\n",
        "\n",
        "Device is the most general class (brand, power)\n",
        "\n",
        "Laptop adds portability\n",
        "\n",
        "GamingLaptop adds graphics and cooling system\n",
        "\n",
        "***🧾 Code Example:***"
      ],
      "metadata": {
        "id": "54pS_xKtEY48"
      }
    },
    {
      "cell_type": "code",
      "source": [
        "# Grandparent class\n",
        "class Device:\n",
        "    def __init__(self, brand, power):\n",
        "        self.brand = brand\n",
        "        self.power = power\n",
        "\n",
        "    def show_device_info(self):\n",
        "        print(f\"Brand: {self.brand}, Power: {self.power}W\")\n",
        "\n",
        "\n",
        "# Parent class\n",
        "class Laptop(Device):\n",
        "    def __init__(self, brand, power, battery_life):\n",
        "        super().__init__(brand, power)\n",
        "        self.battery_life = battery_life\n",
        "\n",
        "    def show_laptop_info(self):\n",
        "        self.show_device_info()\n",
        "        print(f\"Battery Life: {self.battery_life} hours\")\n",
        "\n",
        "\n",
        "# Child class\n",
        "class GamingLaptop(Laptop):\n",
        "    def __init__(self, brand, power, battery_life, gpu):\n",
        "        super().__init__(brand, power, battery_life)\n",
        "        self.gpu = gpu\n",
        "\n",
        "    def show_gaming_laptop_info(self):\n",
        "        self.show_laptop_info()\n",
        "        print(f\"GPU: {self.gpu}\")\n",
        "\n",
        "gl = GamingLaptop(\"Dell\", 150, 6, \"NVIDIA RTX 3060\")\n",
        "gl.show_gaming_laptop_info()\n"
      ],
      "metadata": {
        "colab": {
          "base_uri": "https://localhost:8080/"
        },
        "id": "MWmrXrHFFImy",
        "outputId": "376d15de-fa02-4935-cbf1-34babeb9494e"
      },
      "execution_count": null,
      "outputs": [
        {
          "output_type": "stream",
          "name": "stdout",
          "text": [
            "Brand: Dell, Power: 150W\n",
            "Battery Life: 6 hours\n",
            "GPU: NVIDIA RTX 3060\n"
          ]
        }
      ]
    },
    {
      "cell_type": "markdown",
      "source": [
        "#***👨‍🏫👩‍🏫➡️👦 Multiple Inheritance in Python***"
      ],
      "metadata": {
        "id": "wR4AAb_uIGcw"
      }
    },
    {
      "cell_type": "markdown",
      "source": [
        "###**🧠 What is Multiple Inheritance?**\n",
        "\n",
        "When a **child class inherits from more than one parent class.**\n",
        "\n",
        "It’s like learning from two teachers at once:"
      ],
      "metadata": {
        "id": "5P6blZAXIREY"
      }
    },
    {
      "cell_type": "markdown",
      "source": [
        "\n",
        "**✅ Real-World Example:**\n",
        "\n",
        "`Father + Mother → Child `\n",
        "\n",
        "**Imagine:**\n",
        "\n",
        "Father teaches discipline.\n",
        "\n",
        "Mother teaches kindness.\n",
        "\n",
        "Child learns both. *italicized text*\n",
        "\n",
        "`🧾 Code Example:`\n",
        "\n",
        "\n"
      ],
      "metadata": {
        "id": "nST4HODOIfcG"
      }
    },
    {
      "cell_type": "code",
      "source": [
        "class Father:\n",
        "    def show_father_traits(self):\n",
        "        print(\"Hardworking and strong\")\n",
        "\n",
        "class Mother:\n",
        "    def show_mother_traits(self):\n",
        "        print(\"Caring and loving\")\n",
        "\n",
        "class Child(Father, Mother):\n",
        "    def show_child_traits(self):\n",
        "        print(\"Inherited traits from both parents\")\n",
        "\n",
        "c = Child()\n",
        "c.show_father_traits()\n",
        "c.show_mother_traits()\n",
        "c.show_child_traits()\n"
      ],
      "metadata": {
        "colab": {
          "base_uri": "https://localhost:8080/"
        },
        "id": "H-n_mxhPJERX",
        "outputId": "5d1b25d1-846e-4ee4-af49-3bacd03b2b6c"
      },
      "execution_count": null,
      "outputs": [
        {
          "output_type": "stream",
          "name": "stdout",
          "text": [
            "Hardworking and strong\n",
            "Caring and loving\n",
            "Inherited traits from both parents\n"
          ]
        }
      ]
    },
    {
      "cell_type": "markdown",
      "source": [
        "###**⚠️ What to Keep in Mind?**\n",
        "\n",
        "***Method Resolution Order (MRO)***\n",
        "\n",
        "Python uses left-to-right order when searching for methods\n",
        "\n",
        "If both parent classes have same method name → the one from left class is called first\n",
        "\n",
        "Use super() carefully when both parents have the same method"
      ],
      "metadata": {
        "id": "gVYJIJbMJT9F"
      }
    },
    {
      "cell_type": "markdown",
      "source": [
        "##**🧠 super() Method in Inheritance Concept of Python**\n",
        "\n",
        "**super()** is a shortcut to call the parent class (also called base class) methods and constructor."
      ],
      "metadata": {
        "id": "g1nK3qimJa-T"
      }
    },
    {
      "cell_type": "markdown",
      "source": [
        "###**✅ Why Do We Need super()?**\n",
        "\n",
        "Imagine we are building a Car class that inherits from Vehicle.\n",
        "\n",
        "The parent class (Vehicle) already has some code to set brand and model.\n",
        "\n",
        "So instead of copy-pasting that code again, we just say:\n",
        "\n",
        "\"Hey Python, please call the parent’s constructor for me.\"\n",
        "And we do that using:\n",
        "\n",
        "super().__init__(brand, model)\n",
        "\n",
        "✅ It saves code\n",
        "\n",
        "✅ It's clean\n",
        "\n",
        "✅ If the parent class changes, we don’t need to update everywhere"
      ],
      "metadata": {
        "id": "OHGZhGLyJ8Fa"
      }
    },
    {
      "cell_type": "code",
      "source": [
        "class Parent:\n",
        "    def __init__(self):\n",
        "        print(\"Parent initialized\")\n",
        "\n",
        "class Child(Parent):\n",
        "    def __init__(self):\n",
        "        super().__init__()  # Calls Parent's __init__\n",
        "        print(\"Child initialized\")\n",
        "\n",
        "# Create Child object\n",
        "c = Child()\n"
      ],
      "metadata": {
        "colab": {
          "base_uri": "https://localhost:8080/"
        },
        "id": "y2rfTJKwHIYa",
        "outputId": "229b6544-999d-452e-bb40-cf9152ed288f"
      },
      "execution_count": 1,
      "outputs": [
        {
          "output_type": "stream",
          "name": "stdout",
          "text": [
            "Parent initialized\n",
            "Child initialized\n"
          ]
        }
      ]
    },
    {
      "cell_type": "markdown",
      "source": [
        "###**💡 Key Tips for super():**\n",
        "\n",
        "**Tip\tDescription**\n",
        "\n",
        "✅ super()method always refers to the parent class\n",
        "\n",
        "✅ It’s mostly used inside __init__() to call parent constructor\n",
        "\n",
        "✅ Helps when you're doing inheritance specially **Multi-level** Inheritance\n",
        "\n",
        "✅ Cleaner and future-proof code\n",
        "\n",
        "**❌ Don’t use if you’re not inheriting from a parent class**"
      ],
      "metadata": {
        "id": "liRT7N5TKTMQ"
      }
    },
    {
      "cell_type": "markdown",
      "source": [
        "#**🚀 When to Use Each Type of Inheritance?**\n",
        "\n",
        "***1. 🧱 Single Inheritance***\n",
        "\n",
        "**Use when:**\n",
        "\n",
        "    You want to extend a single class's functionality\n",
        "\n",
        "    Best for simple structure\n",
        "\n",
        "**Example**\n",
        "\n",
        "class Animal → class Dog\n",
        "\n",
        "---\n",
        "\n",
        "\n",
        "***2. 🏢 Multilevel Inheritance***\n",
        "\n",
        "**Use when:**\n",
        "\n",
        "    You have step-by-step hierarchy\n",
        "\n",
        "    Each level adds more data/functionality\n",
        "\n",
        "**Example**\n",
        "\n",
        "✔ Used in organization structure, product upgrades, versioned systems\n",
        "\n",
        "\n",
        "---\n",
        "\n",
        "\n",
        "\n",
        "***3. 🤹 Multiple Inheritance***\n",
        "\n",
        "**Use when:**\n",
        "\n",
        "    You need to combine functionalities from different sources\n",
        "\n",
        "    Best for cross-functional roles\n",
        "\n",
        "**Example:**\n",
        "\n",
        "✔ Used in hybrid systems, AI + Robotics, multi-skilled roles\n"
      ],
      "metadata": {
        "id": "TtZ_ICg_BFpO"
      }
    },
    {
      "cell_type": "markdown",
      "source": [
        "#***✅ End of Task: 6***"
      ],
      "metadata": {
        "id": "QYtWLw7uFOeR"
      }
    }
  ]
}