{
  "nbformat": 4,
  "nbformat_minor": 0,
  "metadata": {
    "colab": {
      "provenance": []
    },
    "kernelspec": {
      "name": "python3",
      "display_name": "Python 3"
    },
    "language_info": {
      "name": "python"
    }
  },
  "cells": [
    {
      "cell_type": "markdown",
      "source": [
        "#***🔹 Methods in Object Oriented Programming***\n",
        "\n",
        "---\n",
        "\n",
        "\n",
        "In **Object-Oriented Programming**, a method is a function defined inside a class.\n",
        "It performs actions using the object’s data and can also update or return values.\n",
        "\n",
        "**In simple terms:**\n",
        "\n",
        "`Functions live outside a class. Methods live inside a class and act on the object.`\n",
        "\n",
        "\n"
      ],
      "metadata": {
        "id": "LCsIad3zS9aS"
      }
    },
    {
      "cell_type": "markdown",
      "source": [
        "##**🔸 Types of Methods in Python OOP**\n",
        "Python supports three main types of methods in classes:\n",
        "\n",
        "```\n",
        "  Method Type   |   Decorator   |     Access    |    Purpose\n",
        "\n",
        "Instance Method |     None      | Object (self) | Most common, works with object data\n",
        "\n",
        "Class Method    | @classmethod  |  Class (cls)  | Works with class-level data\n",
        "\n",
        "Static Method   | @staticmethod |     None      | Utility method — no access to object or clas\n",
        "\n",
        "```\n",
        "\n",
        "\n"
      ],
      "metadata": {
        "id": "x4tMB5CWTrTT"
      }
    },
    {
      "cell_type": "markdown",
      "source": [
        "###**✅ 1. Instance Methods (Default)**\n",
        "🔹 Work with the object (use self)\n",
        "\n",
        "🔹 Can access or modify object attributes\n",
        "\n",
        "    📌 Functionality: Used to access or modify specific object data."
      ],
      "metadata": {
        "id": "noQN_tf1XIug"
      }
    },
    {
      "cell_type": "code",
      "source": [
        "class Book:\n",
        "    def __init__(self, title, author):\n",
        "        self.title = title\n",
        "        self.author = author\n",
        "\n",
        "    def show_info(self):  # Instance method\n",
        "        print(f\"Book: {self.title}, Author: {self.author}\")\n",
        "\n",
        "book1 = Book(\"1984\", \"George Orwell\")\n",
        "book1.show_info()\n"
      ],
      "metadata": {
        "colab": {
          "base_uri": "https://localhost:8080/"
        },
        "id": "4dCWryGJXTou",
        "outputId": "f41f4470-fde5-495d-e2cc-7881cf9e8d1b"
      },
      "execution_count": 1,
      "outputs": [
        {
          "output_type": "stream",
          "name": "stdout",
          "text": [
            "Book: 1984, Author: George Orwell\n"
          ]
        }
      ]
    },
    {
      "cell_type": "markdown",
      "source": [
        "###**✅ 2. Class Methods**\n",
        "🔹 Use the @classmethod decorator\n",
        "\n",
        "🔹 Work with the class itself, not the object\n",
        "\n",
        "🔹 Use cls instead of self\n",
        "\n",
        "    📌 Functionality: Used to modify class-level variables, shared by all objects."
      ],
      "metadata": {
        "id": "7xrZIDNxyXFJ"
      }
    },
    {
      "cell_type": "code",
      "source": [
        "class Student:\n",
        "    school_name = \"IQRA School\"\n",
        "\n",
        "    def __init__(self, name):\n",
        "        self.name = name\n",
        "\n",
        "    @classmethod\n",
        "    def change_school(cls, new_name):\n",
        "        cls.school_name = new_name\n",
        "\n",
        "student1 = Student(\"Hamza\")\n",
        "Student.change_school(\"Bright Future School\")\n",
        "print(Student.school_name)\n"
      ],
      "metadata": {
        "colab": {
          "base_uri": "https://localhost:8080/"
        },
        "id": "ga1jlzWtyljQ",
        "outputId": "2033e570-6eaa-4d7a-8ea8-5e78b92eb04b"
      },
      "execution_count": 2,
      "outputs": [
        {
          "output_type": "stream",
          "name": "stdout",
          "text": [
            "Bright Future School\n"
          ]
        }
      ]
    },
    {
      "cell_type": "markdown",
      "source": [
        "###*✅ 3. Static Methods**\n",
        "🔹 Use the @staticmethod decorator\n",
        "\n",
        "🔹 Don't access object or class data\n",
        "\n",
        "🔹 Act like regular functions but grouped logically in the class\n",
        "\n",
        "    📌 Functionality: Used when the method performs a task independent of class or instance."
      ],
      "metadata": {
        "id": "YnWxuHU6yv54"
      }
    },
    {
      "cell_type": "code",
      "source": [
        "class Calculator:\n",
        "    @staticmethod\n",
        "    def add(a, b):\n",
        "        return a + b\n",
        "\n",
        "print(Calculator.add(5, 3))  # Output: 8\n"
      ],
      "metadata": {
        "colab": {
          "base_uri": "https://localhost:8080/"
        },
        "id": "_HkQoVFuzCSJ",
        "outputId": "902983cd-22e0-406e-de37-a4f299a4cd84"
      },
      "execution_count": 3,
      "outputs": [
        {
          "output_type": "stream",
          "name": "stdout",
          "text": [
            "8\n"
          ]
        }
      ]
    },
    {
      "cell_type": "markdown",
      "source": [
        "###**🧪 Practice Task**\n",
        "On the base of given methods which are above discussed.\n",
        "\n",
        "    ! Create a Movie class:\n",
        "\n",
        "    ! Attributes: title, year\n",
        "\n",
        "    ! Instance method: show_details()\n",
        "\n",
        "    ! Class attribute: platform = \"Netflix\"\n",
        "\n",
        "    ! Class method: change_platform(new_platform)\n",
        "\n",
        "    ! Static method: is_popular(rating) → return True if rating > 8"
      ],
      "metadata": {
        "id": "mAZ9Rf3U0uTq"
      }
    },
    {
      "cell_type": "code",
      "source": [
        "class Movie:\n",
        "    Platform = \"Netflix\"  # Class variable shared by all objects\n",
        "\n",
        "    def __init__(self, title, year):\n",
        "        self.title = title\n",
        "        self.year = year\n",
        "\n",
        "    def show_details(self):  # Instance method\n",
        "        print(f\"Title: {self.title}, Year: {self.year}, Platform: {self.Platform}\")\n",
        "\n",
        "    @classmethod\n",
        "    def change_platform(cls, new_platform):  # Class method\n",
        "        cls.Platform = new_platform\n",
        "\n",
        "    @staticmethod\n",
        "    def is_popular(rating):  # Static method\n",
        "        return rating > 7  # Cleaner, more \"pythonic\"\n",
        "\n",
        "Movie1 = Movie(\"The Matrix\", 1991)\n",
        "Movie1.show_details()\n",
        "Movie1.change_platform(\"Amazon Prime\")\n",
        "Movie1.show_details()\n",
        "print(Movie1.is_popular(10))\n",
        "\n"
      ],
      "metadata": {
        "colab": {
          "base_uri": "https://localhost:8080/"
        },
        "id": "Nx3kQ8cQzPN_",
        "outputId": "bb190ec9-99ca-43fe-bd3b-c180e2344bce"
      },
      "execution_count": 7,
      "outputs": [
        {
          "output_type": "stream",
          "name": "stdout",
          "text": [
            "Title: The Matrix, Year: 1991, Platform: Netflix\n",
            "Title: The Matrix, Year: 1991, Platform: Amazon Prime\n",
            "True\n"
          ]
        }
      ]
    },
    {
      "cell_type": "markdown",
      "source": [
        "##***✅ End of Task: 2***\n",
        "\n",
        "\n",
        "---\n",
        "\n"
      ],
      "metadata": {
        "id": "bRWahg7312UH"
      }
    }
  ]
}