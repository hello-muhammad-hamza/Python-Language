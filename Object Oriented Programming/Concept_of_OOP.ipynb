{
  "nbformat": 4,
  "nbformat_minor": 0,
  "metadata": {
    "colab": {
      "provenance": []
    },
    "kernelspec": {
      "name": "python3",
      "display_name": "Python 3"
    },
    "language_info": {
      "name": "python"
    }
  },
  "cells": [
    {
      "cell_type": "markdown",
      "source": [
        "#***Object Oriented Programming 🏛️***\n",
        "---\n",
        "\n",
        "\n",
        "\n",
        "To map with real world scenarios, we started **using objects** in code.This is called Object Oriented Programming. Basically it decreases the redundancy and increases the reusability of code.\n",
        "\n",
        "**OOP** is a coding style where we model real-world things as \"objects\" with:  \n",
        "\n",
        "\n",
        "Attributes (Data) → Like a car’s color, speed.\n",
        "\n",
        "Methods (Actions) → Like a car’s \"drive()\" or \"brake()\n"
      ],
      "metadata": {
        "id": "nysF4I3zu104"
      }
    },
    {
      "cell_type": "markdown",
      "source": [
        "##***Why Use OOP in Programming? 🚀***\n",
        "`1. Organize & Struncture Chaos in Code 🧩`\n",
        "\n",
        "`2. Reuse Code ♻️`\n",
        "\n",
        "`3. Protect Data 🔒`\n",
        "\n",
        "`4. Making Model Real-World Logic 🌍`\n",
        "\n",
        "`5. Scale Easily 📈`\n",
        "\n",
        "`6. Reduce Redundancy in Code? ✅`\n"
      ],
      "metadata": {
        "id": "1liMUJls1ZiV"
      }
    },
    {
      "cell_type": "markdown",
      "source": [
        "#**The four Pillars of OOP in Python are: 🏛️🐍**\n",
        "###***1. Encapsulation 🎁***\n",
        "\n",
        "\"Hide the mess, show the magic!\"\n",
        "\n",
        "Bundles data (attributes) and methods (functions) into a single unit (class).\n",
        "\n",
        "\n",
        "Protects data with private (__) or protected (_) access.\n",
        "\n",
        "`For Example: Secure Bank Account`\n",
        "\n",
        "\n",
        "`Key Idea: Keep sensitive data hidden!`\n",
        "\n"
      ],
      "metadata": {
        "id": "mpbilkoYwQZV"
      }
    },
    {
      "cell_type": "code",
      "source": [
        "class BankAccount:\n",
        "    def __init__(self, name, balance):\n",
        "        self.name = name\n",
        "        self.__balance = balance  # Private!\n",
        "\n",
        "    def deposit(self, amount):\n",
        "        self.__balance += amount\n",
        "\n",
        "    def show_balance(self):\n",
        "        print(f\"💰 {self.name}'s balance: ${self.__balance}\")\n",
        "\n",
        "account = BankAccount(\"Hamza\", 1000)\n",
        "account.deposit(500)\n",
        "account.show_balance()  # Works!\n",
        "# print(account.__balance)  ❌ Error! (Private)"
      ],
      "metadata": {
        "colab": {
          "base_uri": "https://localhost:8080/"
        },
        "id": "ObS6lYrYyAN2",
        "outputId": "d0e3e62e-318b-4369-b32a-2441c623b970"
      },
      "execution_count": 1,
      "outputs": [
        {
          "output_type": "stream",
          "name": "stdout",
          "text": [
            "💰 Hamza's balance: $1500\n"
          ]
        }
      ]
    },
    {
      "cell_type": "markdown",
      "source": [
        "###***2. Inheritance👦***\n",
        "\"Don’t repeat yourself—let parents handle it!\"\n",
        "\n",
        "A child class inherits attributes/methods from a parent class\n",
        "\n",
        "`For Example: Animals (Parent → Child)`\n",
        "\n",
        "`Key Idea: Reuse code efficiently!`"
      ],
      "metadata": {
        "id": "qc5ltjVoyzNr"
      }
    },
    {
      "cell_type": "code",
      "source": [
        "class Animal:\n",
        "    def __init__(self, name):\n",
        "        self.name = name\n",
        "\n",
        "    def speak(self):\n",
        "        print(\"...\")\n",
        "\n",
        "class Dog(Animal):\n",
        "    def speak(self):  # Override parent method\n",
        "        print(\"Woof! 🐕\")\n",
        "\n",
        "class Cat(Animal):\n",
        "    def speak(self):\n",
        "        print(\"Meow! 🐈\")\n",
        "\n",
        "dog = Dog(\"Buddy\")\n",
        "cat = Cat(\"Whiskers\")\n",
        "dog.speak()  # \"Woof! 🐕\"\n",
        "cat.speak()  # \"Meow! 🐈\""
      ],
      "metadata": {
        "colab": {
          "base_uri": "https://localhost:8080/"
        },
        "id": "Jq-94oCZzpaJ",
        "outputId": "c2289dc6-8cbe-4e85-ec34-2c5bca87afa1"
      },
      "execution_count": 2,
      "outputs": [
        {
          "output_type": "stream",
          "name": "stdout",
          "text": [
            "Woof! 🐕\n",
            "Meow! 🐈\n"
          ]
        }
      ]
    },
    {
      "cell_type": "markdown",
      "source": [
        "###***3. Polymorphism 🎭***\n",
        "\"One name, many forms!\"\n",
        "\n",
        "Same method name behaves differently for different classes.\n",
        "\n",
        "`Example: Shape Area Calculator`\n",
        "\n",
        "`Key Idea: One function, multiple behaviors!`"
      ],
      "metadata": {
        "id": "I5c3bZxgz_Ji"
      }
    },
    {
      "cell_type": "code",
      "source": [
        "class Rectangle:\n",
        "    def area(self):\n",
        "        return \"📏 Area = Length × Width\"\n",
        "\n",
        "class Circle:\n",
        "    def area(self):\n",
        "        return \"⭕ Area = π × Radius²\"\n",
        "\n",
        "def print_area(shape):\n",
        "    print(shape.area())\n",
        "\n",
        "rectangle = Rectangle()\n",
        "circle = Circle()\n",
        "\n",
        "print_area(rectangle)  # 📏 Area = Length × Width\n",
        "print_area(circle)     # ⭕ Area = π × Radius²"
      ],
      "metadata": {
        "colab": {
          "base_uri": "https://localhost:8080/"
        },
        "id": "YlihO3IZ0QTA",
        "outputId": "a7f14988-2a04-4f2c-a65d-df4d1aadaabd"
      },
      "execution_count": 3,
      "outputs": [
        {
          "output_type": "stream",
          "name": "stdout",
          "text": [
            "📏 Area = Length × Width\n",
            "⭕ Area = π × Radius²\n"
          ]
        }
      ]
    },
    {
      "cell_type": "markdown",
      "source": [
        "###***4. Abstraction �***\n",
        "\"Focus on what it does, not how it works!\"\n",
        "\n",
        "Hides complex logic behind simple interfaces.\n",
        "\n",
        "Uses abstract classes (Python needs ABC module).\n",
        "\n",
        "`Example: Remote Control`\n",
        "\n",
        "`Key Idea: Expose only what’s needed!`\n",
        "\n"
      ],
      "metadata": {
        "id": "LfMCxfbp0ZJW"
      }
    },
    {
      "cell_type": "code",
      "source": [
        "from abc import ABC, abstractmethod\n",
        "\n",
        "class Remote(ABC):\n",
        "    @abstractmethod\n",
        "    def power_button(self):\n",
        "        pass\n",
        "\n",
        "class TVRemote(Remote):\n",
        "    def power_button(self):\n",
        "        print(\"📺 TV turned ON/OFF\")\n",
        "\n",
        "class ACRemote(Remote):\n",
        "    def power_button(self):\n",
        "        print(\"❄️ AC turned ON/OFF\")\n",
        "\n",
        "tv = TVRemote()\n",
        "ac = ACRemote()\n",
        "\n",
        "tv.power_button()  # 📺 TV turned ON/OFF\n",
        "ac.power_button()  # ❄️ AC turned ON/OFF"
      ],
      "metadata": {
        "colab": {
          "base_uri": "https://localhost:8080/"
        },
        "id": "ZB09zgzd0nol",
        "outputId": "fc972e33-c433-4b34-9751-b9197551a9ca"
      },
      "execution_count": 4,
      "outputs": [
        {
          "output_type": "stream",
          "name": "stdout",
          "text": [
            "📺 TV turned ON/OFF\n",
            "❄️ AC turned ON/OFF\n"
          ]
        }
      ]
    }
  ]
}