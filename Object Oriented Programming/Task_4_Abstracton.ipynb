{
  "nbformat": 4,
  "nbformat_minor": 0,
  "metadata": {
    "colab": {
      "provenance": []
    },
    "kernelspec": {
      "name": "python3",
      "display_name": "Python 3"
    },
    "language_info": {
      "name": "python"
    }
  },
  "cells": [
    {
      "cell_type": "markdown",
      "source": [
        "#***🧠 What is Abstraction?***\n",
        "\n",
        "---\n",
        "\n",
        "Abstraction means **hiding complex details** and showing only the necessary parts to the user."
      ],
      "metadata": {
        "id": "cezXHYF-7Y9v"
      }
    },
    {
      "cell_type": "markdown",
      "source": [
        "##**🧠 Why Use Abstraction?**\n",
        "\n",
        "**✅ Hides unnecessary details**\n",
        "\n",
        "**✅ Forces subclasses to follow a blueprint**\n",
        "\n",
        "**✅ Helps in designing scalable, maintainable systems**\n",
        "\n",
        "**✅ Increases security and flexibility**"
      ],
      "metadata": {
        "id": "QW_qD6kI-xac"
      }
    },
    {
      "cell_type": "markdown",
      "source": [
        "###**🎯 Real-Life Example**\n",
        "    **Example:** TV Remote\n",
        "\n",
        "    You press the power button → TV turns on.\n",
        "\n",
        "    Do you know how signals are sent? Circuits work? No.\n",
        "\n",
        "    You don’t need to! That’s abstraction."
      ],
      "metadata": {
        "id": "ptQaAJNp7j59"
      }
    },
    {
      "cell_type": "markdown",
      "source": [
        "###**🧑‍💻 In Python — How Do We Use Abstraction?**\n",
        "\n",
        "We use **ABC (Abstract Base Class)** from Python’s abc module"
      ],
      "metadata": {
        "id": "bj3XGXNP73FE"
      }
    },
    {
      "cell_type": "code",
      "source": [
        "from abc import ABC, abstractmethod\n"
      ],
      "metadata": {
        "id": "-xJxHfG-8GNb"
      },
      "execution_count": 4,
      "outputs": []
    },
    {
      "cell_type": "markdown",
      "source": [
        "**🔧 Key Concepts:**\n",
        "\n",
        "    Concept\t             Description\n",
        "\n",
        "    ABC\t              A base class that defines rules for other classes\n",
        "    @abstractmethod\t  A method that must be implemented by child classes\n",
        "    Abstract Class\t  A class that cannot be directly instantiated"
      ],
      "metadata": {
        "id": "jqjGlpiM8aq7"
      }
    },
    {
      "cell_type": "markdown",
      "source": [
        "**✅ Basic Example: Abstract Animal Class**"
      ],
      "metadata": {
        "id": "WNfpDBD99Zxw"
      }
    },
    {
      "cell_type": "code",
      "source": [
        "from abc import ABC, abstractmethod\n",
        "\n",
        "class Animal(ABC):  # Abstract class\n",
        "    @abstractmethod\n",
        "    def make_sound(self):\n",
        "        pass  # No body here\n"
      ],
      "metadata": {
        "id": "OpEHzhpL9h6_"
      },
      "execution_count": 8,
      "outputs": []
    },
    {
      "cell_type": "markdown",
      "source": [
        "**Now let’s create concrete classes that inherit and implement it**:"
      ],
      "metadata": {
        "id": "Eted0IZT9m13"
      }
    },
    {
      "cell_type": "code",
      "source": [
        "class Dog(Animal):\n",
        "    def make_sound(self):\n",
        "        return \"Woof!\"\n",
        "\n",
        "class Cat(Animal):\n",
        "    def make_sound(self):\n",
        "        return \"Meow!\"\n"
      ],
      "metadata": {
        "id": "RcduLCyu9q4n"
      },
      "execution_count": 9,
      "outputs": []
    },
    {
      "cell_type": "markdown",
      "source": [
        "**✅ Usage:**"
      ],
      "metadata": {
        "id": "hfzqJBIu9uEH"
      }
    },
    {
      "cell_type": "code",
      "source": [
        "d = Dog()\n",
        "print(d.make_sound())  # Woof!\n",
        "\n",
        "c = Cat()\n",
        "print(c.make_sound())  # Meow!\n",
        "\n"
      ],
      "metadata": {
        "colab": {
          "base_uri": "https://localhost:8080/"
        },
        "id": "24gRgzRO9vgn",
        "outputId": "72ceee02-d249-4046-f62d-63d49d286371"
      },
      "execution_count": 11,
      "outputs": [
        {
          "output_type": "stream",
          "name": "stdout",
          "text": [
            "Woof!\n",
            "Meow!\n"
          ]
        }
      ]
    },
    {
      "cell_type": "markdown",
      "source": [
        "###**🎓 Real-World Example:**\n",
        "**Payment System**"
      ],
      "metadata": {
        "id": "l5zddYMQ-D0n"
      }
    },
    {
      "cell_type": "code",
      "source": [
        "from abc import ABC, abstractmethod\n",
        "\n",
        "class Payment(ABC):\n",
        "    @abstractmethod\n",
        "    def pay(self, amount):\n",
        "        pass\n",
        "\n",
        "class CreditCardPayment(Payment):\n",
        "    def pay(self, amount):\n",
        "        print(f\"Paid {amount} using Credit Card\")\n",
        "\n",
        "class PayPalPayment(Payment):\n",
        "    def pay(self, amount):\n",
        "        print(f\"Paid {amount} using PayPal\")\n",
        "\n",
        "p1 = CreditCardPayment()\n",
        "p1.pay(500)\n",
        "\n",
        "p2 = PayPalPayment()\n",
        "p2.pay(1000)\n"
      ],
      "metadata": {
        "colab": {
          "base_uri": "https://localhost:8080/"
        },
        "id": "XAj_NyEi-OtV",
        "outputId": "6263c430-445e-4b22-f15c-de6fc4be033b"
      },
      "execution_count": 12,
      "outputs": [
        {
          "output_type": "stream",
          "name": "stdout",
          "text": [
            "Paid 500 using Credit Card\n",
            "Paid 1000 using PayPal\n"
          ]
        }
      ]
    },
    {
      "cell_type": "markdown",
      "source": [
        "###**✅ Summary Table**\n",
        "\n",
        "**Feature\tUse**\n",
        "\n",
        "    ABC\t             Define abstract class\n",
        "\n",
        "    @abstractmethod\t Create method with no body\n",
        "\n",
        "    Concrete Class\t Subclass that implements rules\n",
        "\n",
        "    Cannot instantiate ABC\tEnforces structure"
      ],
      "metadata": {
        "id": "nNjV66IU-ZoM"
      }
    },
    {
      "cell_type": "markdown",
      "source": [
        "#***✅ End of Task: 4***\n",
        "\n",
        "\n",
        "---\n",
        "\n"
      ],
      "metadata": {
        "id": "u6EqPt-q_S2i"
      }
    }
  ]
}