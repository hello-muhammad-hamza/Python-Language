{
  "nbformat": 4,
  "nbformat_minor": 0,
  "metadata": {
    "colab": {
      "provenance": []
    },
    "kernelspec": {
      "name": "python3",
      "display_name": "Python 3"
    },
    "language_info": {
      "name": "python"
    }
  },
  "cells": [
    {
      "cell_type": "markdown",
      "source": [
        "#***🔄 Polymorphism in Python***\n",
        "\n",
        "\n",
        "---\n",
        "\n",
        "###**📘 Meaning:**\n",
        "\n",
        "Polymorphism means \"**many forms**\".\n",
        "\n",
        "**In simple words:**\n",
        "\n",
        "    Different classes can have methods with the same name, but behave differently depending on the object."
      ],
      "metadata": {
        "id": "vv2k5hmwNEgZ"
      }
    },
    {
      "cell_type": "markdown",
      "source": [
        "##**Function Polymorphism**\n",
        "\n",
        "An example of a Python function that can be used on different objects is the **len() function**.\n",
        "\n",
        "###**String Example:**\n",
        "\n",
        "    For strings len() returns the number of characters:"
      ],
      "metadata": {
        "id": "n9NMzK3P6Ex8"
      }
    },
    {
      "cell_type": "code",
      "source": [
        "x = \"Hello World!\"\n",
        "print(len(x))"
      ],
      "metadata": {
        "colab": {
          "base_uri": "https://localhost:8080/"
        },
        "id": "D0MPYYuB6QJ9",
        "outputId": "04935e55-5eea-4722-d1a0-148e184134cd"
      },
      "execution_count": null,
      "outputs": [
        {
          "output_type": "stream",
          "name": "stdout",
          "text": [
            "12\n"
          ]
        }
      ]
    },
    {
      "cell_type": "markdown",
      "source": [
        "###**Tuple Example:**\n",
        "\n",
        "    For tuples len() returns the number of items in the tuple:\n",
        "\n",
        "Example\n"
      ],
      "metadata": {
        "id": "VySeFrWP6g4N"
      }
    },
    {
      "cell_type": "code",
      "source": [
        "mytuple = (\"apple\", \"banana\", \"cherry\")\n",
        "print(len(mytuple))"
      ],
      "metadata": {
        "colab": {
          "base_uri": "https://localhost:8080/"
        },
        "id": "w2bcvgdC6xQC",
        "outputId": "93a159d9-2715-4bff-b9e2-a737f2dea98a"
      },
      "execution_count": null,
      "outputs": [
        {
          "output_type": "stream",
          "name": "stdout",
          "text": [
            "3\n"
          ]
        }
      ]
    },
    {
      "cell_type": "markdown",
      "source": [
        "###**Dictionary Example:**\n",
        "\n",
        "    For dictionaries len() returns the number of key/value pairs in the dictionary"
      ],
      "metadata": {
        "id": "L2FdGail64uj"
      }
    },
    {
      "cell_type": "code",
      "source": [
        "thisdict = {\n",
        "  \"brand\": \"Ford\",\n",
        "  \"model\": \"Mustang\",\n",
        "  \"year\": 1964\n",
        "}\n",
        "\n",
        "print(len(thisdict))"
      ],
      "metadata": {
        "colab": {
          "base_uri": "https://localhost:8080/"
        },
        "id": "VrTSjsdQ6_pi",
        "outputId": "5e43f74d-1ccf-4f51-9495-2ccc1b8694f8"
      },
      "execution_count": null,
      "outputs": [
        {
          "output_type": "stream",
          "name": "stdout",
          "text": [
            "3\n"
          ]
        }
      ]
    },
    {
      "cell_type": "markdown",
      "source": [
        "##**💡  Class Polymorphism**\n",
        "Polymorphism is often used in Class methods, where we can have multiple classes with the same method name."
      ],
      "metadata": {
        "id": "JM6i3rcw7Th5"
      }
    },
    {
      "cell_type": "markdown",
      "source": [
        "###**✅ Why Polymorphism is Useful?**\n",
        "\n",
        "You write flexible and scalable code.\n",
        "\n",
        "You can treat different objects the same way, even if they are different inside.\n",
        "\n",
        "It helps you in real-world modeling: animals, employees, shapes, vehicles, etc."
      ],
      "metadata": {
        "id": "ysEVaJL0Nba_"
      }
    },
    {
      "cell_type": "markdown",
      "source": [
        "**💡 Real-Life Example (Simple):**\n",
        "\n",
        "Let’s say we have different animals:\n",
        "\n",
        "A Dog makes a barking sound.\n",
        "\n",
        "A Cat makes a meowing sound.\n",
        "\n",
        "We can call the same method make_sound() — but each one responds in its own way.\n",
        "\n",
        "`🔧 Code Example:`"
      ],
      "metadata": {
        "id": "QJ_5LfGuNj7O"
      }
    },
    {
      "cell_type": "code",
      "execution_count": null,
      "metadata": {
        "colab": {
          "base_uri": "https://localhost:8080/"
        },
        "id": "2sSgvb1eM98A",
        "outputId": "7f5f4c5e-5d86-4426-98ac-2d2c53ed6e7e"
      },
      "outputs": [
        {
          "output_type": "stream",
          "name": "stdout",
          "text": [
            "Bark!\n",
            "Meow!\n"
          ]
        }
      ],
      "source": [
        "class Dog:\n",
        "    def make_sound(self):\n",
        "        print(\"Bark!\")\n",
        "\n",
        "class Cat:\n",
        "    def make_sound(self):\n",
        "        print(\"Meow!\")\n",
        "\n",
        "def animal_sound(animal):\n",
        "    animal.make_sound()\n",
        "\n",
        "d = Dog()\n",
        "c = Cat()\n",
        "\n",
        "animal_sound(d)   # Output: Bark!\n",
        "animal_sound(c)   # Output: Meow!\n"
      ]
    },
    {
      "cell_type": "markdown",
      "source": [
        "**🔄 Types of Polymorphism in Python:**\n",
        "\n",
        "       Type\t                      Explanation                \t Example\n",
        "\n",
        "    Duck Typing\t     \tPython-style flexible coding        animal.make_sound()\n",
        "\n",
        "    Method Overriding       Essential for real-world OOP        def make_sound() in both\n",
        "\n",
        "    Operator Overloading    Only for custom math-like objects   __add__(), __mul__()\n",
        "    "
      ],
      "metadata": {
        "id": "nRXmQE8PN6GO"
      }
    },
    {
      "cell_type": "markdown",
      "source": [
        "##**🧠 What is Duck Typing?**\n",
        "\n",
        "**📌 Meaning in Python:**\n",
        "\n",
        "Python doesn’t care about the type of object.\n",
        "\n",
        "If the object has the required method or behavior, Python will use it — no questions asked!"
      ],
      "metadata": {
        "id": "LqhckGqWWGWZ"
      }
    },
    {
      "cell_type": "markdown",
      "source": [
        "###**✅ Why Duck Typing is Powerful?**\n",
        "\n",
        "    No need for strict data types.\n",
        "\n",
        "    Code becomes more flexible and reusable.\n",
        "\n",
        "    Great for Polymorphism without inheritance.\n",
        "\n",
        "##**💼 Real World Example: File Writer**"
      ],
      "metadata": {
        "id": "sCbOErEbWTx3"
      }
    },
    {
      "cell_type": "code",
      "source": [
        "class FileWriter:\n",
        "    def write(self, text):\n",
        "        print(f\"Writing to file: {text}\")\n",
        "\n",
        "class ConsoleWriter:\n",
        "    def write(self, text):\n",
        "        print(f\"Writing to console: {text}\")\n",
        "\n",
        "def write_output(writer, text):\n",
        "    writer.write(text)\n",
        "\n",
        "file_writer = FileWriter()\n",
        "console_writer = ConsoleWriter()\n",
        "\n",
        "write_output(file_writer, \"Saving data\")\n",
        "write_output(console_writer, \"Showing data\")\n",
        "\n",
        "# ✅ We didn’t care if it’s a file writer or console writer — just that it has a .write() method."
      ],
      "metadata": {
        "colab": {
          "base_uri": "https://localhost:8080/"
        },
        "id": "vGRdPw2-WcLE",
        "outputId": "772fecd9-eb64-4ed3-867d-4c0dfc3182b8"
      },
      "execution_count": null,
      "outputs": [
        {
          "output_type": "stream",
          "name": "stdout",
          "text": [
            "Writing to file: Saving data\n",
            "Writing to console: Showing data\n"
          ]
        }
      ]
    },
    {
      "cell_type": "markdown",
      "source": [
        "###**🔄 Summary**\n",
        "\n",
        "    Concept\t             Meaning\n",
        "\n",
        "    Duck Typing   \tIf an object has the required method, it’s good to go — type doesn't matter\n",
        "\n",
        "    Benefit   \tMore flexible, clean, and polymorphic code\n",
        "\n",
        "    Used In\t   Functions, APIs, dynamic programs, plugin systems"
      ],
      "metadata": {
        "id": "LEuB-QWJW8Ts"
      }
    },
    {
      "cell_type": "markdown",
      "source": [
        "##**🧠 What is Method Overriding?**\n",
        "\n",
        "Method Overriding means:\n",
        "\n",
        "A child class provides its own version of a method that is already defined in its parent class."
      ],
      "metadata": {
        "id": "wb9hv7pqZL6d"
      }
    },
    {
      "cell_type": "markdown",
      "source": [
        "##**💡 Real-Life Example:**\n",
        "\n",
        "Let’s say you have a general class Animal with a method make_sound().\n",
        "\n",
        "But each animal makes a different sound.\n",
        "\n",
        "So the Dog and Cat classes override that method with their own version.\n",
        "\n",
        "`✅ Basic Example:`"
      ],
      "metadata": {
        "id": "hHD9a4j3ZRVF"
      }
    },
    {
      "cell_type": "code",
      "source": [
        "class Animal:\n",
        "    def make_sound(self):\n",
        "        print(\"Some animal sound\")\n",
        "\n",
        "class Dog(Animal):\n",
        "    def make_sound(self):\n",
        "        print(\"Bark!\")\n",
        "\n",
        "class Cat(Animal):\n",
        "    def make_sound(self):\n",
        "        print(\"Meow!\")\n",
        "\n",
        "a = Animal()\n",
        "d = Dog()\n",
        "c = Cat()\n",
        "\n",
        "a.make_sound()  # Output: Some animal sound\n",
        "d.make_sound()  # Output: Bark!\n",
        "c.make_sound()  # Output: Meow!\n",
        "\n",
        "\n",
        "# Even though all objects have a make_sound() method, the child classes override the parent class’s method to behave their own way.\n",
        "# This is called Polymorphism via Method Overriding\n"
      ],
      "metadata": {
        "colab": {
          "base_uri": "https://localhost:8080/"
        },
        "id": "_s0kDzuyZiF0",
        "outputId": "daa74668-20dc-41a6-9210-487490340541"
      },
      "execution_count": null,
      "outputs": [
        {
          "output_type": "stream",
          "name": "stdout",
          "text": [
            "Some animal sound\n",
            "Bark!\n",
            "Meow!\n"
          ]
        }
      ]
    },
    {
      "cell_type": "markdown",
      "source": [
        "##**✅ Advanced Concept: Calling Parent Method Too**\n",
        "\n",
        "Sometimes, you want to keep the original parent method, but also add\n",
        " something new in the child.\n",
        "\n",
        "You can do this using **super() method**.\n",
        "\n",
        "`🔧 Example:`"
      ],
      "metadata": {
        "id": "0EKpXLOOZo90"
      }
    },
    {
      "cell_type": "code",
      "source": [
        "class Animal:\n",
        "    def make_sound(self):\n",
        "        print(\"Animal makes sound\")\n",
        "\n",
        "class Dog(Animal):\n",
        "    def make_sound(self):\n",
        "        super().make_sound()  # Calls Animal's version\n",
        "        print(\"Dog barks!\")\n",
        "\n",
        "d = Dog()\n",
        "d.make_sound()\n"
      ],
      "metadata": {
        "colab": {
          "base_uri": "https://localhost:8080/"
        },
        "id": "nJelwz70aFna",
        "outputId": "63ff6210-c0af-4ef2-b03d-fd0bb8427208"
      },
      "execution_count": 2,
      "outputs": [
        {
          "output_type": "stream",
          "name": "stdout",
          "text": [
            "Animal makes sound\n",
            "Dog barks!\n"
          ]
        }
      ]
    },
    {
      "cell_type": "markdown",
      "source": [
        "##**✅ Real-world Practical Use Case**\n"
      ],
      "metadata": {
        "id": "lqWh7t6yaSu8"
      }
    },
    {
      "cell_type": "code",
      "source": [
        "class Employee:\n",
        "    def show_role(self):\n",
        "        print(\"I am an employee\")\n",
        "\n",
        "class Manager(Employee):\n",
        "    def show_role(self):\n",
        "        print(\"I manage the team\")\n",
        "\n",
        "class Developer(Employee):\n",
        "    def show_role(self):\n",
        "        print(\"I write code\")\n",
        "\n",
        "team = [Manager(), Developer(), Employee()]\n",
        "for member in team:\n",
        "    member.show_role()\n",
        "\n",
        "# Even though all objects are called in the same way, they behave differently — that’s Polymorphism in action!"
      ],
      "metadata": {
        "colab": {
          "base_uri": "https://localhost:8080/"
        },
        "id": "D6Q5RsBHaXqi",
        "outputId": "4e62642c-4361-4c26-8119-1c34ff238792"
      },
      "execution_count": null,
      "outputs": [
        {
          "output_type": "stream",
          "name": "stdout",
          "text": [
            "I manage the team\n",
            "I write code\n",
            "I am an employee\n"
          ]
        }
      ]
    },
    {
      "cell_type": "markdown",
      "source": [
        "    Term\t                    Meaning\n",
        "\n",
        "    Method Overriding\t  Child class replaces parent method\n",
        "\n",
        "    super()            \tCalls parent class's method inside child\n",
        "\n",
        "    Polymorphism\t       Objects respond differently to same method"
      ],
      "metadata": {
        "id": "ddQfR2aUaiMo"
      }
    },
    {
      "cell_type": "markdown",
      "source": [
        "##**⚙️ Operator Overloading in Python**\n",
        "\n",
        "**🤔 What Is It?**\n",
        "\n",
        "Operator Overloading means using operators like +, -, *, etc. with custom meaning for your own classes.\n",
        "\n",
        "Python allows you to redefine how operators work with objects of your classes."
      ],
      "metadata": {
        "id": "uU_NGHrQCrlX"
      }
    },
    {
      "cell_type": "markdown",
      "source": [
        "###**🔰 Basic Example: Adding Two Points**"
      ],
      "metadata": {
        "id": "WcgTEAo2ETKB"
      }
    },
    {
      "cell_type": "code",
      "source": [
        "class Point:\n",
        "    def __init__(self, x, y):\n",
        "        self.x = x\n",
        "        self.y = y\n",
        "\n",
        "    def __add__(self, other):  # This is operator overloading\n",
        "        return Point(self.x + other.x, self.y + other.y)\n",
        "\n",
        "    def show(self):\n",
        "        print(f\"Point({self.x}, {self.y})\")\n",
        "\n",
        "p1 = Point(2, 3)\n",
        "p2 = Point(4, 5)\n",
        "\n",
        "p3 = p1 + p2  # Actually calls p1.__add__(p2)\n",
        "p3.show()     # Output: Point(6, 8)\n",
        "\n",
        "# 🧠 So now + means something special for your custom class.\n"
      ],
      "metadata": {
        "colab": {
          "base_uri": "https://localhost:8080/"
        },
        "id": "FY07KAHiEirw",
        "outputId": "216492c5-38f5-4f07-b598-1bc291e8d00b"
      },
      "execution_count": 3,
      "outputs": [
        {
          "output_type": "stream",
          "name": "stdout",
          "text": [
            "Point(6, 8)\n"
          ]
        }
      ]
    },
    {
      "cell_type": "markdown",
      "source": [
        "###**📚 Common Magic Methods for Overloading:**\n",
        "\n",
        "    Operator\t     Method Name\t           Example\n",
        "       +\t     __add__(self, other)\t    obj1 + obj2\n",
        "       -\t     __sub__\t                 obj1 - obj2\n",
        "       *\t     __mul__                 \tobj1 * obj2\n",
        "       /\t     __truediv__             \tobj1 / obj2\n",
        "       ==\t    __eq__\t                  obj1 == obj2\n",
        "       <\t     __lt__                  \tobj1 < obj2"
      ],
      "metadata": {
        "id": "4P_jJXFjE0b_"
      }
    },
    {
      "cell_type": "markdown",
      "source": [
        "###**✅ Advance Example: Comparing Employees by Salary**\n",
        "\n"
      ],
      "metadata": {
        "id": "aho-IN7BFjCE"
      }
    },
    {
      "cell_type": "code",
      "source": [
        "class Employee:\n",
        "    def __init__(self, name, salary):\n",
        "        self.name = name\n",
        "        self.salary = salary\n",
        "\n",
        "    def __gt__(self, other):\n",
        "        return self.salary > other.salary\n",
        "\n",
        "e1 = Employee(\"Ali\", 50000)\n",
        "e2 = Employee(\"Hamza\", 60000)\n",
        "\n",
        "print(e1 > e2)  # False\n",
        "\n",
        "# 🧠 We used > directly, but it actually ran: e1.__gt__(e2)\n",
        "\n"
      ],
      "metadata": {
        "colab": {
          "base_uri": "https://localhost:8080/"
        },
        "id": "z3lTMvq-FrJN",
        "outputId": "27f39654-0664-4caa-cff9-23d38a1ecbe5"
      },
      "execution_count": 4,
      "outputs": [
        {
          "output_type": "stream",
          "name": "stdout",
          "text": [
            "False\n"
          ]
        }
      ]
    },
    {
      "cell_type": "markdown",
      "source": [
        "#***End Of Task: 7 🚀***\n",
        "\n",
        "---\n"
      ],
      "metadata": {
        "id": "8D_CQ4e6IKq1"
      }
    }
  ]
}