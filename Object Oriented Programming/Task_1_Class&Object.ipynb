{
  "nbformat": 4,
  "nbformat_minor": 0,
  "metadata": {
    "colab": {
      "provenance": []
    },
    "kernelspec": {
      "name": "python3",
      "display_name": "Python 3"
    },
    "language_info": {
      "name": "python"
    }
  },
  "cells": [
    {
      "cell_type": "markdown",
      "source": [
        "#***Concept of Class and Object:⚡***\n",
        "\n",
        "\n",
        "---\n",
        "\n",
        "\n",
        "Class is a blueprint for creating objects.\n",
        "\n",
        "In Python, a class defines the structure and behavior (data and functions) that the objects created from it will have.\n"
      ],
      "metadata": {
        "id": "yTVcqON5TjdK"
      }
    },
    {
      "cell_type": "markdown",
      "source": [
        "##***▶ Creating Class***\n",
        "\n"
      ],
      "metadata": {
        "id": "8rjw5DzcV7Hy"
      }
    },
    {
      "cell_type": "code",
      "source": [
        "# Creating Class\n",
        "class Industry:\n",
        "    color = \"Blue\"\n",
        "    Model = 2020"
      ],
      "metadata": {
        "id": "EZd-Zxa0VfwM"
      },
      "execution_count": 2,
      "outputs": []
    },
    {
      "cell_type": "markdown",
      "source": [
        "##**▶ Creating Object**\n",
        "An object is a real-world **instance of a class.**\n",
        "Using the blueprint,an object would be an actual built using that blueprint."
      ],
      "metadata": {
        "id": "jJmymbfKVnjF"
      }
    },
    {
      "cell_type": "code",
      "source": [
        "# Creating Class\n",
        "class Industry:\n",
        "    color = \"Blue\"\n",
        "    Model = 2020\n",
        "\n",
        "# Creating Object of Class\n",
        "my_car = Industry()  # Creating an object of class Car\n",
        "print(my_car.color)      # Accessing property\n",
        "print(my_car.Model)"
      ],
      "metadata": {
        "colab": {
          "base_uri": "https://localhost:8080/"
        },
        "id": "yl7nAXc1XDLX",
        "outputId": "c6d1fdc0-6cc7-4855-fc6a-872062eda5e9"
      },
      "execution_count": 7,
      "outputs": [
        {
          "output_type": "stream",
          "name": "stdout",
          "text": [
            "Blue\n",
            "2020\n"
          ]
        }
      ]
    },
    {
      "cell_type": "code",
      "source": [
        "# Another Example\n",
        "# Creating Class\n",
        "class cars_industry:\n",
        "    Colour = \"Black\"\n",
        "    Model = \"2025\"\n",
        "\n",
        "# Creating Object\n",
        "car1 = cars_industry()\n",
        "print(\"Car Colour:\",car1.Colour,\"Model:\",car1.Model)"
      ],
      "metadata": {
        "colab": {
          "base_uri": "https://localhost:8080/"
        },
        "id": "WzucnOmnYAxr",
        "outputId": "30a454f5-a440-47f1-944f-35f4a3d0c669"
      },
      "execution_count": 8,
      "outputs": [
        {
          "output_type": "stream",
          "name": "stdout",
          "text": [
            "Car Colour: Black Model: 2025\n"
          ]
        }
      ]
    },
    {
      "cell_type": "markdown",
      "source": [
        "#**The `___init___` Function/Constructor:**\n",
        "\n",
        "\n",
        "All classes have a function called `__init__()` also called constructor, which is always executed/invoked when the object\n",
        "is being initiated.\n",
        "# Here **\"self\"** parmeter invoked itsef in python\n",
        "\n",
        "**Note**: `The self parameter is a reference to the current instace of the class, and is used to access variables that belongs to the class.`"
      ],
      "metadata": {
        "id": "2CpIRg90Yeti"
      }
    },
    {
      "cell_type": "code",
      "source": [
        "# Creating Class\n",
        "class cars_factory:\n",
        "\n",
        "  # Creating Constructor\n",
        "    def __init__(self,color,model): # Here \"self\" parmeter invoked itsef in pythonn and \"init\" function always take one argument.\n",
        "        self.color = color\n",
        "        self.model = model\n",
        "        print(\"Adding this new model in database.\")\n",
        "\n",
        "car1 = cars_factory(\"Black\",2020)\n",
        "print(\"Car1 Color:\",car1.color,\"| Car1 Model:\",car1.model)\n",
        "\n"
      ],
      "metadata": {
        "colab": {
          "base_uri": "https://localhost:8080/"
        },
        "id": "3ZCfG8cTZKya",
        "outputId": "827806c9-d2f7-4b57-d949-54493e5ab84a"
      },
      "execution_count": 11,
      "outputs": [
        {
          "output_type": "stream",
          "name": "stdout",
          "text": [
            "Adding this new model in database.\n",
            "Car1 Color: Black | Car1 Model: 2020\n"
          ]
        }
      ]
    },
    {
      "cell_type": "markdown",
      "source": [
        "\n",
        "#**The `___str___()` Function**\n",
        "The `__str__()` function controls what should be returned\n",
        "when the class object is represented as a string.\n",
        "\n",
        " The `__str__()` method in Python is a special method that defines the \"informal\"\n",
        "\n",
        "or user-friendly string representation of an object.\n",
        "\n",
        "The `__str__()` method is essential in Python for improving readability and user-friendly outputwhen working with objects.\n",
        ")\n"
      ],
      "metadata": {
        "id": "L-50KXWJZt9W"
      }
    },
    {
      "cell_type": "code",
      "source": [
        "class Person:\n",
        "    def __init__(self, name, age):\n",
        "        self.name = name\n",
        "        self.age = age\n",
        "\n",
        "    # Define __str__ for user-friendly output\n",
        "    def __str__(self):\n",
        "        return f\"Person: {self.name} is {self.age} years old\"\n",
        "\n",
        "# Create an object\n",
        "p = Person(\"Hamza\", 25)\n",
        "\n",
        "# Prints the __str__ output\n",
        "print(p)  # Output: Person: Hamza, 25 years old"
      ],
      "metadata": {
        "colab": {
          "base_uri": "https://localhost:8080/"
        },
        "id": "_nbNJ592bYcJ",
        "outputId": "cc5a0131-744e-40f5-de98-93d05c755ccd"
      },
      "execution_count": 14,
      "outputs": [
        {
          "output_type": "stream",
          "name": "stdout",
          "text": [
            "Person: Hamza is 25 years old\n"
          ]
        }
      ]
    },
    {
      "cell_type": "markdown",
      "source": [
        "# **Same code without` __str__()` function**\n"
      ],
      "metadata": {
        "id": "yjAlQkOIbwmo"
      }
    },
    {
      "cell_type": "code",
      "source": [
        "class Person:\n",
        "    def __init__(self, name, age):\n",
        "        self.name = name\n",
        "        self.age = age\n",
        "\n",
        "# Create an object\n",
        "p = Person(\"Hamza\", 25)\n",
        "\n",
        "# Prints the __str__ output\n",
        "print(p)  # Output: <__main__.Person object at 0x7abbfc568dd0>\n",
        "\n",
        "\n"
      ],
      "metadata": {
        "colab": {
          "base_uri": "https://localhost:8080/"
        },
        "id": "6zUga87YcCe_",
        "outputId": "73fe9f68-93b4-410d-f859-fb7149c55d56"
      },
      "execution_count": 18,
      "outputs": [
        {
          "output_type": "stream",
          "name": "stdout",
          "text": [
            "<__main__.Person object at 0x7abbe69db490>\n"
          ]
        }
      ]
    },
    {
      "cell_type": "markdown",
      "source": [
        "# **🔹 Class Attributes vs Object Attributes**\n",
        "\n",
        "##**🧱 Class Attributes**\n",
        "\n",
        "         Belong to the class itself, not any one object.\n",
        "\n",
        "         Shared across all instances of the class.\n",
        "\n",
        "**Note**: Obj attribute has high precedence than class attribute.\n"
      ],
      "metadata": {
        "id": "MbHZkESqcwCl"
      }
    },
    {
      "cell_type": "code",
      "source": [
        "class Student:\n",
        "    school_name = \"ABC School\"  # Class attribute\n",
        "\n",
        "# All students share the same school\n",
        "s1 = Student()\n",
        "s2 = Student()\n",
        "\n",
        "print(s1.school_name)  # ABC School\n",
        "print(s2.school_name)  # ABC School\n"
      ],
      "metadata": {
        "colab": {
          "base_uri": "https://localhost:8080/"
        },
        "id": "GqMyotOce3MY",
        "outputId": "b605ee07-cc77-422d-a128-25c241ad1a38"
      },
      "execution_count": 19,
      "outputs": [
        {
          "output_type": "stream",
          "name": "stdout",
          "text": [
            "ABC School\n",
            "ABC School\n"
          ]
        }
      ]
    },
    {
      "cell_type": "markdown",
      "source": [
        "**🧱 Object Attributes (Instance Attributes)**\n",
        "\n",
        "     Belong to a specific object (instance).\n",
        "\n",
        "     Set using self inside the __init__() method.\n",
        "\n",
        "     Each object can have different values for the same attribute"
      ],
      "metadata": {
        "id": "nbMMu9B3e_WW"
      }
    },
    {
      "cell_type": "code",
      "source": [
        "class Student:\n",
        "    def __init__(self, name, grade):\n",
        "        self.name = name       # Object attribute\n",
        "        self.grade = grade     # Object attribute\n",
        "\n",
        "s1 = Student(\"Ali\", \"A\")\n",
        "s2 = Student(\"Sara\", \"B\")\n",
        "\n",
        "print(s1.name)   # Ali\n",
        "print(s2.name)   # Sara\n"
      ],
      "metadata": {
        "colab": {
          "base_uri": "https://localhost:8080/"
        },
        "id": "wtc9i3KRflG0",
        "outputId": "43fa6cd8-1b1e-4d05-97dc-f7e53d51e507"
      },
      "execution_count": 20,
      "outputs": [
        {
          "output_type": "stream",
          "name": "stdout",
          "text": [
            "Ali\n",
            "Sara\n"
          ]
        }
      ]
    }
  ]
}