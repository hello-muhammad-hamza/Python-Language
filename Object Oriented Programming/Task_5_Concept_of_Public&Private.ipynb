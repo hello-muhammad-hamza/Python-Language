{
  "nbformat": 4,
  "nbformat_minor": 0,
  "metadata": {
    "colab": {
      "provenance": []
    },
    "kernelspec": {
      "name": "python3",
      "display_name": "Python 3"
    },
    "language_info": {
      "name": "python"
    }
  },
  "cells": [
    {
      "cell_type": "markdown",
      "source": [
        "#***🔒 Python Access Modifiers: Public, Private & Protected***\n",
        "\n",
        "---\n"
      ],
      "metadata": {
        "id": "6EJxmXsHqYgp"
      }
    },
    {
      "cell_type": "markdown",
      "source": [
        "###**🔓 1. Public Members (Default)**\n",
        "\n",
        "**Definition:** Public attributes and methods are accessible from anywhere—both\n",
        "inside and outside the class.\n",
        "\n",
        "**Syntax:** No special syntax; by default, all members are public.\n",
        "Accessible anywhere (inside/outside the class).\n",
        "\n",
        "**When to Use?**\n",
        "\n",
        "`For methods/variables that are safe for users to access.`\n",
        "\n",
        "***Code Example***\n"
      ],
      "metadata": {
        "id": "47HnkNywq2qP"
      }
    },
    {
      "cell_type": "code",
      "execution_count": 1,
      "metadata": {
        "colab": {
          "base_uri": "https://localhost:8080/"
        },
        "id": "i_VSuaG5po2C",
        "outputId": "f094b012-098c-4ab1-e1da-b5008e67cc68"
      },
      "outputs": [
        {
          "output_type": "stream",
          "name": "stdout",
          "text": [
            "iPhone\n",
            "📞 Calling...\n"
          ]
        }
      ],
      "source": [
        "class Smartphone:\n",
        "    def __init__(self, brand):\n",
        "        self.brand = brand  # Public attribute (no underscore)\n",
        "\n",
        "    def make_call(self):    # Public method\n",
        "        print(\"📞 Calling...\")\n",
        "\n",
        "# ✅ Accessible everywhere\n",
        "phone = Smartphone(\"iPhone\")\n",
        "print(phone.brand)  # Output: iPhone\n",
        "phone.make_call()   # Output: 📞 Calling..."
      ]
    },
    {
      "cell_type": "markdown",
      "source": [
        "###**🔒 2. Private Members (Restricted)**\n",
        "\n",
        "**Definition:** Private members are intended to be used only within the class. They are not directly accessible from outside the class.\n",
        "\n",
        "**Syntax:** Prefix the member name with **double underscores __ before the word.**\n",
        "\n",
        "`When to Use?`\n",
        "\n",
        "`Hide sensitive data (e.g., passwords, internal logic).`\n",
        "\n",
        "***Code Example***"
      ],
      "metadata": {
        "id": "d8d1hCnfrzw0"
      }
    },
    {
      "cell_type": "code",
      "source": [
        "class Student:\n",
        "    def __init__(self, name, age):\n",
        "        self.__name = name    # Private attribute\n",
        "        self.__age = age      # Private attribute\n",
        "\n",
        "    def __display(self):      # Private method\n",
        "        print(f\"Name: {self.__name}, Age: {self.__age}\")\n",
        "\n",
        "    def show(self):          # Public method accessing private members\n",
        "        self.__display()\n",
        "\n",
        "# Trying to access private members (will cause an error)\n",
        "s = Student(\"Ali\", 20)\n",
        "# print(s.__name)      # Error: AttributeError\n",
        "# s.__display()        # Error: AttributeError\n",
        "\n",
        "# Correct way (using a public method)\n",
        "s.show()               # Output: Name: Ali, Age: 20"
      ],
      "metadata": {
        "colab": {
          "base_uri": "https://localhost:8080/"
        },
        "id": "EI52cFz5s1SQ",
        "outputId": "bbe0a7ac-8dcf-4196-f9b8-b3305a830d85"
      },
      "execution_count": 4,
      "outputs": [
        {
          "output_type": "stream",
          "name": "stdout",
          "text": [
            "Name: Ali, Age: 20\n"
          ]
        }
      ]
    },
    {
      "cell_type": "markdown",
      "source": [
        "###**3. Name Mangling (How Python \"Hides\" Private Members)**\n",
        "\n",
        "Python doesn’t truly enforce private members. Instead, it performs **name mangling** (renaming the attribute to _ClassName__attribute).\n",
        "\n",
        "That's how we can access private members through **Mangling** (but it’s not recommended):"
      ],
      "metadata": {
        "id": "yEZ6sGmztNzX"
      }
    },
    {
      "cell_type": "code",
      "source": [
        "print(s._Student__name)   # Output: Ali (works, but avoid this!)"
      ],
      "metadata": {
        "colab": {
          "base_uri": "https://localhost:8080/"
        },
        "id": "ARfBfUiFtxSn",
        "outputId": "2c73dc40-f418-4714-8755-2e6688749991"
      },
      "execution_count": 5,
      "outputs": [
        {
          "output_type": "stream",
          "name": "stdout",
          "text": [
            "Ali\n"
          ]
        }
      ]
    },
    {
      "cell_type": "markdown",
      "source": [
        "###**4.Protected Members (Convention, Not Strictly Enforced)**\n",
        "\n",
        "**Definition:** Intended for use within the class and its subclasses (not strictly private).\n",
        "\n",
        "**Syntax:** Prefix with a single underscore _ (just a convention, not enforced).\n",
        "\n",
        "`When to Use?`\n",
        "\n",
        "`For internal methods that child classes might need.`\n",
        "\n",
        "***Code Example***"
      ],
      "metadata": {
        "id": "cb6NtPnJt2HV"
      }
    },
    {
      "cell_type": "code",
      "source": [
        "class Smartphone:\n",
        "    def __init__(self):\n",
        "        self._battery = 100  # Protected attribute\n",
        "\n",
        "    def _charge(self):       # Protected method\n",
        "        print(\"⚡ Charging...\")\n",
        "\n",
        "class Android(Smartphone):   # Child class\n",
        "    def check_battery(self):\n",
        "        print(f\"🔋 Battery: {self._battery}%\")  # ✅ Works in subclass\n",
        "        self._charge()\n",
        "\n",
        "# 🟡 Accessible but meant for internal use\n",
        "phone = Android()\n",
        "print(phone._battery)  # Output: 100 (works but avoid direct access)\n",
        "phone._charge()"
      ],
      "metadata": {
        "colab": {
          "base_uri": "https://localhost:8080/"
        },
        "id": "xF4xo9e4wCGX",
        "outputId": "40fabe61-5e1c-4860-bcd5-1253cd3bfdb4"
      },
      "execution_count": 6,
      "outputs": [
        {
          "output_type": "stream",
          "name": "stdout",
          "text": [
            "100\n",
            "⚡ Charging...\n"
          ]
        }
      ]
    },
    {
      "cell_type": "markdown",
      "source": [
        "###**🏦 Real-World Example: Bank Account System**"
      ],
      "metadata": {
        "id": "_6tCs0Y7z56t"
      }
    },
    {
      "cell_type": "code",
      "source": [
        "class BankAccount:\n",
        "    def __init__(self, name, balance):\n",
        "        self.name = name          # Public\n",
        "        self.__balance = balance  # Private\n",
        "\n",
        "    def deposit(self, amount):    # Public method\n",
        "        if amount > 0:\n",
        "            self.__balance += amount\n",
        "            self.__log_transaction(f\"+${amount}\")  # Private method call\n",
        "\n",
        "    def __log_transaction(self, msg):  # Private method\n",
        "        print(f\"Transaction: {msg}\")\n",
        "    def display(self):\n",
        "        print(f\"Account holder: {self.name}, Balance: ${self.__balance}\")\n",
        "# Usage\n",
        "account = BankAccount(input(\"Enter your name: \"), int(input(\"Enter your balance: \")))  # ✅ Public method\n",
        "account.deposit(int(input(\"Enter deposit money: \")))  # ✅ Public method\n",
        "account.display()  # ✅ Public method\n",
        "# account.__log_transaction()  # ❌ Private (Error!)"
      ],
      "metadata": {
        "colab": {
          "base_uri": "https://localhost:8080/"
        },
        "id": "c73lJJl80Fa0",
        "outputId": "61cf6732-79f9-4422-c7c3-970ed53497a5"
      },
      "execution_count": 7,
      "outputs": [
        {
          "output_type": "stream",
          "name": "stdout",
          "text": [
            "Enter your name: Muhammad Hamza\n",
            "Enter your balance: 1000\n",
            "Enter deposit money: 500\n",
            "Transaction: +$500\n",
            "Account holder: Muhammad Hamza, Balance: $1500\n"
          ]
        }
      ]
    },
    {
      "cell_type": "markdown",
      "source": [
        "\n",
        "#***✅ End of Task: 5***\n",
        "\n",
        "\n",
        "---\n",
        "\n"
      ],
      "metadata": {
        "id": "KQg3Ql8_0OoL"
      }
    }
  ]
}