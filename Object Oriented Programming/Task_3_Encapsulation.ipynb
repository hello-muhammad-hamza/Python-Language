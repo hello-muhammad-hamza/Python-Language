{
  "nbformat": 4,
  "nbformat_minor": 0,
  "metadata": {
    "colab": {
      "provenance": []
    },
    "kernelspec": {
      "name": "python3",
      "display_name": "Python 3"
    },
    "language_info": {
      "name": "python"
    }
  },
  "cells": [
    {
      "cell_type": "markdown",
      "source": [
        "#***🔐 Encapsulation In Python***\n",
        "---"
      ],
      "metadata": {
        "id": "D6oXy-0WchRh"
      }
    },
    {
      "cell_type": "markdown",
      "source": [
        "###**🔰 1. What is Encapsulation?**\n",
        "\n",
        "**Encapsulation** = Wrapping data + methods together + hiding sensitive data\n",
        "\n",
        "🔗 It protects private data\n",
        "\n",
        "🔗 It prevents unwanted changes\n",
        "\n",
        "🔗 It creates a clean, controlled interface for users\n",
        "\n",
        "**🔧 Think of it as:**\n",
        "\n",
        "`“You don’t touch the engine of the car directly — you use the steering wheel and pedals.”`"
      ],
      "metadata": {
        "id": "kJLFnzqcdNLj"
      }
    },
    {
      "cell_type": "markdown",
      "source": [
        "###**1️⃣ Private Attributes using __ Prefi**x\n",
        "\n",
        "In Python, putting **__ (double underscore)** before a variable name makes it private.\n",
        "\n",
        "`✅ Example:`"
      ],
      "metadata": {
        "id": "u7U_TRZvw4U4"
      }
    },
    {
      "cell_type": "code",
      "source": [
        "class Car:\n",
        "    def __init__(self, brand):\n",
        "        self.__brand = brand  # private attribute\n",
        "\n",
        "# 🔥 Why?\n",
        "# You cannot directly access it like:\n",
        "\n",
        "c1 = Car(\"Toyota\")\n",
        "print(c1.__brand)  # ❌ Error: AttributeError\n",
        "\n",
        "# So for this purpose we use the getter method to get the data safe, so here encapsultion concept works\n"
      ],
      "metadata": {
        "colab": {
          "base_uri": "https://localhost:8080/",
          "height": 183
        },
        "collapsed": true,
        "id": "MH5hsXB4exmv",
        "outputId": "df630ed4-da88-4ac5-d1b7-2f0506331c0c"
      },
      "execution_count": 4,
      "outputs": [
        {
          "output_type": "error",
          "ename": "AttributeError",
          "evalue": "'Car' object has no attribute '__brand'",
          "traceback": [
            "\u001b[0;31m---------------------------------------------------------------------------\u001b[0m",
            "\u001b[0;31mAttributeError\u001b[0m                            Traceback (most recent call last)",
            "\u001b[0;32m<ipython-input-4-24025fd1aa05>\u001b[0m in \u001b[0;36m<cell line: 0>\u001b[0;34m()\u001b[0m\n\u001b[1;32m      7\u001b[0m \u001b[0;34m\u001b[0m\u001b[0m\n\u001b[1;32m      8\u001b[0m \u001b[0mc1\u001b[0m \u001b[0;34m=\u001b[0m \u001b[0mCar\u001b[0m\u001b[0;34m(\u001b[0m\u001b[0;34m\"Toyota\"\u001b[0m\u001b[0;34m)\u001b[0m\u001b[0;34m\u001b[0m\u001b[0;34m\u001b[0m\u001b[0m\n\u001b[0;32m----> 9\u001b[0;31m \u001b[0mprint\u001b[0m\u001b[0;34m(\u001b[0m\u001b[0mc1\u001b[0m\u001b[0;34m.\u001b[0m\u001b[0m__brand\u001b[0m\u001b[0;34m)\u001b[0m  \u001b[0;31m# ❌ Error: AttributeError\u001b[0m\u001b[0;34m\u001b[0m\u001b[0;34m\u001b[0m\u001b[0m\n\u001b[0m",
            "\u001b[0;31mAttributeError\u001b[0m: 'Car' object has no attribute '__brand'"
          ]
        }
      ]
    },
    {
      "cell_type": "markdown",
      "source": [
        "###**2️⃣ Getter Method (To Read Private Data)**\n",
        "\n",
        "We create a **getter** to safely view private data that's how our encapsulated concepts work to deal with data safely.\n",
        "\n",
        "`✅ Example:`"
      ],
      "metadata": {
        "id": "Mkymmv8cxnwm"
      }
    },
    {
      "cell_type": "code",
      "source": [
        "class Car:\n",
        "    def __init__(self, brand):\n",
        "        self.__brand = brand\n",
        "\n",
        "    def get_brand(self):\n",
        "        return self.__brand\n",
        "\n",
        "c1 = Car(\"Toyota\")\n",
        "print(c1.get_brand())  # ✅ Output: Toyota\n"
      ],
      "metadata": {
        "colab": {
          "base_uri": "https://localhost:8080/"
        },
        "id": "awae6N3yyONl",
        "outputId": "e3f6dc49-725e-49d1-cef4-7bc1bd8f17ce"
      },
      "execution_count": 5,
      "outputs": [
        {
          "output_type": "stream",
          "name": "stdout",
          "text": [
            "Toyota\n"
          ]
        }
      ]
    },
    {
      "cell_type": "markdown",
      "source": [
        "###**3️⃣ Setter Method (To Update Private Data Safely)**\n",
        "\n",
        "We use a setter to update the private value with validation.\n",
        "\n",
        "`✅ Example:`"
      ],
      "metadata": {
        "id": "bZFgwQElym8D"
      }
    },
    {
      "cell_type": "code",
      "source": [
        "class Car:\n",
        "    def __init__(self, brand):\n",
        "        self.__brand = brand\n",
        "\n",
        "    def set_brand(self, new_brand):\n",
        "        if new_brand:  # simple validation\n",
        "            self.__brand = new_brand\n",
        "        else:\n",
        "            print(\"Brand can't be empty!\")\n",
        "\n",
        "    def get_brand(self):\n",
        "        return self.__brand\n",
        "\n",
        "c1 = Car(\"Toyota\")\n",
        "c1.set_brand(\"Honda\")\n",
        "print(c1.get_brand())  # ✅ Output: Honda\n"
      ],
      "metadata": {
        "colab": {
          "base_uri": "https://localhost:8080/"
        },
        "id": "vV1Yw7wZyucT",
        "outputId": "f6c3bc2a-559c-4788-ad02-322e93f96940"
      },
      "execution_count": 8,
      "outputs": [
        {
          "output_type": "stream",
          "name": "stdout",
          "text": [
            "Honda\n"
          ]
        }
      ]
    },
    {
      "cell_type": "markdown",
      "source": [
        "###**4️⃣ Concept Of Mangling**\n",
        "Even private variables can be accessed (not recommended) using:"
      ],
      "metadata": {
        "id": "lUY-m3rz1kti"
      }
    },
    {
      "cell_type": "code",
      "source": [
        "class Car:\n",
        "    def __init__(self, brand):\n",
        "        self.__brand = brand\n",
        "\n",
        "c1 = Car(\"Toyota\")\n",
        "\n",
        "# object._ClassName__privateVar\n",
        "print(c1._Car__brand)  # 🚨 Output: Honda (accessing private variable)\n"
      ],
      "metadata": {
        "colab": {
          "base_uri": "https://localhost:8080/"
        },
        "id": "RGjvPSDO0Ij2",
        "outputId": "248cdd77-8552-4037-acd7-0637b8f2b634"
      },
      "execution_count": 29,
      "outputs": [
        {
          "output_type": "stream",
          "name": "stdout",
          "text": [
            "Toyota\n"
          ]
        }
      ]
    },
    {
      "cell_type": "markdown",
      "source": [
        "\n",
        "###**🧠 Final Full Code — Putting All Together**\n",
        "\n"
      ],
      "metadata": {
        "id": "eJjftt8y2QCY"
      }
    },
    {
      "cell_type": "code",
      "source": [
        "class Student:\n",
        "    def __init__(self, name, marks):\n",
        "        self.name = name                # public\n",
        "        self.__marks = marks            # private\n",
        "\n",
        "    # Getter\n",
        "    def get_marks(self):\n",
        "        return self.__marks\n",
        "\n",
        "    # Setter with validation\n",
        "    def set_marks(self, new_marks):\n",
        "        if 0 <= new_marks <= 100:\n",
        "            self.__marks = new_marks\n",
        "        else:\n",
        "            print(\"Invalid marks! Must be between 0 and 100.\")\n",
        "\n",
        "    # Display method\n",
        "    def show_info(self):\n",
        "        print(f\"Name: {self.name}, Marks: {self.__marks}\")\n",
        "\n",
        "\n",
        "s1 = Student(\"Hamza\", 90)\n",
        "# Access using methods\n",
        "s1.show_info()\n",
        "print(s1.get_marks())     # 90\n",
        "\n",
        "# Update marks\n",
        "s1.set_marks(95)\n",
        "s1.show_info()\n",
        "\n",
        "# Try to set invalid marks\n",
        "s1.set_marks(110)         # Error message shown\n",
        "\n",
        "# Access using mangling (not recommended)\n",
        "print(s1._Student__marks)  # 95\n",
        "\n"
      ],
      "metadata": {
        "colab": {
          "base_uri": "https://localhost:8080/"
        },
        "id": "7aznqNkU2Uiv",
        "outputId": "fda205a3-a782-4157-beb6-d7596c5d35dc"
      },
      "execution_count": 33,
      "outputs": [
        {
          "output_type": "stream",
          "name": "stdout",
          "text": [
            "Name: Hamza, Marks: 90\n",
            "90\n",
            "Name: Hamza, Marks: 95\n",
            "Invalid marks! Must be between 0 and 100.\n",
            "95\n"
          ]
        }
      ]
    },
    {
      "cell_type": "markdown",
      "source": [
        "#***✅ End of Task: 3***"
      ],
      "metadata": {
        "id": "9rsLs9VA3SCF"
      }
    }
  ]
}