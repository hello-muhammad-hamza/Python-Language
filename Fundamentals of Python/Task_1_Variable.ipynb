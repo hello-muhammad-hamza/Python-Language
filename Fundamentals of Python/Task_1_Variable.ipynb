{
  "nbformat": 4,
  "nbformat_minor": 0,
  "metadata": {
    "colab": {
      "provenance": []
    },
    "kernelspec": {
      "name": "python3",
      "display_name": "Python 3"
    },
    "language_info": {
      "name": "python"
    }
  },
  "cells": [
    {
      "cell_type": "markdown",
      "source": [
        "***🚀 Our Fist Python Program***"
      ],
      "metadata": {
        "id": "fTByXU73Y_qK"
      }
    },
    {
      "cell_type": "code",
      "execution_count": 4,
      "metadata": {
        "colab": {
          "base_uri": "https://localhost:8080/"
        },
        "id": "RrnR8G4YYt3m",
        "outputId": "3e4f909b-52ed-4130-9011-0215d2843b23"
      },
      "outputs": [
        {
          "output_type": "stream",
          "name": "stdout",
          "text": [
            "Hello World!\n",
            "Muhammad Hamza is my name and I am learning my first programming language which is python.\n"
          ]
        }
      ],
      "source": [
        "print(\"Hello World!\")\n",
        "print(\"Muhammad Hamza is my name and I am learning my first programming language which is python.\")\n"
      ]
    },
    {
      "cell_type": "markdown",
      "source": [
        "***Variable / Identifier***\n",
        "\n",
        "---\n",
        "\n",
        "\n",
        "A variable is a name given to memory location in a program.\n",
        "Variables are like containers for storing data values. It is a\n",
        "memory (RAM) location to hold data (numbers & strings).These are user defined words.\n"
      ],
      "metadata": {
        "id": "v0hQlqwKZy-U"
      }
    },
    {
      "cell_type": "code",
      "source": [
        "var = \"Hello World!\"  # var: variable name , \"Hello World!\": variable value\n",
        "print(var)"
      ],
      "metadata": {
        "id": "bcAohK_tZyBO",
        "colab": {
          "base_uri": "https://localhost:8080/"
        },
        "outputId": "c6ac37c4-17cf-4323-bee0-e050349ba147"
      },
      "execution_count": 2,
      "outputs": [
        {
          "output_type": "stream",
          "name": "stdout",
          "text": [
            "Hello World!\n"
          ]
        }
      ]
    },
    {
      "cell_type": "markdown",
      "source": [
        "\n",
        "***Naming Rules for Identifier/Variable Name:***\n",
        "\n",
        "---\n",
        "\n",
        "\n",
        "*  It is a sequence of characters that consists of letters(a-z),digits(0-9), & underscore(_).\n",
        "*  Must start with a letter or the underscore\n",
        "*  Can be of any length\n",
        "*  Cannot start with a number (digit)\n",
        "*  Variable names are case-sensitive\n",
        "*  Cannot be a Python keyword\n",
        "*  Blank spaces are not allowed\n",
        "*  Must be unique through out the program\n",
        "*  Special symbols/characters (+, -, *, /, & etc) are not allowed"
      ],
      "metadata": {
        "id": "PP5CacSUbD1Y"
      }
    },
    {
      "cell_type": "markdown",
      "source": [
        "***Built-in Data Types***\n",
        "\n",
        "---\n",
        "\n",
        "We have different form of data and divide them in different types, to understand them easily.\n",
        "In programming, Variables can store data of different types,and different types can do different things.\n",
        "Python has the following data types built-in by default, in these categories:  \n",
        "*    Str Type\n",
        "*   Numeric Types: int, float, complex\n",
        "\n",
        "*    Sequence Types: list, tuple,range\n",
        "*    Mapping Type: dict\n",
        "\n",
        "*   Set Types:set, frozenset\n",
        "*  Boolean Type: bool\n",
        "\n",
        "*   Binary Types: bytes, bytearray, memoryview#  ● None Type: NoneType"
      ],
      "metadata": {
        "id": "UHyZiX7kbkwH"
      }
    },
    {
      "cell_type": "code",
      "source": [
        "str = \"Hello World\"  # string type\n",
        "print(type(str))\n",
        "int = 22             # int type\n",
        "print(type(int))\n",
        "float = 22.1         # float type\n",
        "print(type(float))\n",
        "list = [3,4,\"hello\"]  # list type\n",
        "print(type(list))\n",
        "tupple = (3,4,\"hello\")  # tupple type\n",
        "print(type(tupple))\n"
      ],
      "metadata": {
        "colab": {
          "base_uri": "https://localhost:8080/"
        },
        "id": "2kXQL_UPclfe",
        "outputId": "963de486-ab9d-4305-e1a3-ff0446b33dd0"
      },
      "execution_count": 9,
      "outputs": [
        {
          "output_type": "stream",
          "name": "stdout",
          "text": [
            "<class 'str'>\n",
            "<class 'int'>\n",
            "<class 'float'>\n",
            "<class 'list'>\n",
            "<class 'tuple'>\n"
          ]
        }
      ]
    },
    {
      "cell_type": "markdown",
      "source": [
        "***Keyword***\n",
        "\n",
        "---\n",
        "\n",
        "\n",
        "\n",
        "Python keywords are special reserved words that have a predefined meaning in the Python language. They are used for specific purposes like defining conditions, loops, functions, and more. We cannot use them as identifiers (variable names, function names, etc.).\n",
        "\n",
        "**For Example:**\n",
        "\n",
        "False, True, None, and, or, not, if, else, elif, while, for, break, continue,def, return, class, try, except, finally, import, from, as, pass, global, nonlocal, lambda, yield, raise, with, assert, del, async, await"
      ],
      "metadata": {
        "id": "SwgAj_juf0Nx"
      }
    },
    {
      "cell_type": "markdown",
      "source": [
        "***Python Case Sensitivity :***\n",
        "\n",
        "Python is case-sensitive language, meaning it treats uppercase and lowercase letters differently.\n",
        "\n",
        "This applies to variables, function names, keywords, and identifiers.\n"
      ],
      "metadata": {
        "id": "nK2d46aKgZt_"
      }
    },
    {
      "cell_type": "markdown",
      "source": [
        "***Case Sensitivity in Variables***"
      ],
      "metadata": {
        "id": "i3wqREjGgqjs"
      }
    },
    {
      "cell_type": "code",
      "source": [
        "name = \"Hamza\"\n",
        "Name = \"Ali\"\n",
        "print(\"name:\", name)  # Output: Hamza\n",
        "print(\"Name:\", Name)  # Output: Ali (different from 'name')\n"
      ],
      "metadata": {
        "colab": {
          "base_uri": "https://localhost:8080/"
        },
        "id": "quiy9U4XguJk",
        "outputId": "6010e265-6fd0-4536-d053-c47073e48023"
      },
      "execution_count": 10,
      "outputs": [
        {
          "output_type": "stream",
          "name": "stdout",
          "text": [
            "name: Hamza\n",
            "Name: Ali\n"
          ]
        }
      ]
    },
    {
      "cell_type": "markdown",
      "source": [
        "***Case Sensitivity in Built-in Functions and Modules***\n"
      ],
      "metadata": {
        "id": "89-P2RuShH8L"
      }
    },
    {
      "cell_type": "code",
      "source": [
        "\n",
        "import math\n",
        "print(\"math.pi:\", math.pi)  # ✅ Incase of upper case it cannot work due to case sesitivity of language.\n"
      ],
      "metadata": {
        "colab": {
          "base_uri": "https://localhost:8080/"
        },
        "id": "I6XXBDKdhXX5",
        "outputId": "c046b2b3-ff0a-4bba-8229-702b35d493ca"
      },
      "execution_count": 11,
      "outputs": [
        {
          "output_type": "stream",
          "name": "stdout",
          "text": [
            "math.pi: 3.141592653589793\n"
          ]
        }
      ]
    },
    {
      "cell_type": "markdown",
      "source": [
        "***Variable Storage in Python vs Other Languages***\n",
        "\n",
        "---\n",
        "\n",
        "\n",
        "In Python, variables store references to values rather than the values themselves. This means that if two variables store the same immutable value, they will point to the same memory location (value-based storage).\n"
      ],
      "metadata": {
        "id": "mJ4j3gP9hhWi"
      }
    },
    {
      "cell_type": "code",
      "source": [
        "a = 10\n",
        "b = 10\n",
        "print(id(a))  # Memory address of a\n",
        "print(id(b))  # Memory address of b (same as a) so their id location w\n",
        "\n"
      ],
      "metadata": {
        "colab": {
          "base_uri": "https://localhost:8080/"
        },
        "id": "BHQH0SUQh06w",
        "outputId": "88c8f894-22b4-49b4-d7d7-e6be75e57913"
      },
      "execution_count": 12,
      "outputs": [
        {
          "output_type": "stream",
          "name": "stdout",
          "text": [
            "10751144\n",
            "10751144\n"
          ]
        }
      ]
    },
    {
      "cell_type": "markdown",
      "source": [
        "\n",
        "***Other Languages (Name-Based Storage)***\n",
        "\n",
        "---\n",
        "\n",
        " In other languages like C, C++, and Java, variables store values directly in memory. Even if two variables hold the same value, they will have different memory addresses.\n",
        "\n",
        "\n",
        "\n"
      ],
      "metadata": {
        "id": "o9gaMxAPiNq3"
      }
    },
    {
      "cell_type": "markdown",
      "source": [
        "#***🚀 TASK 1 SUCCESSFULLY DONE! 🎉***\n",
        "---\n",
        "---"
      ],
      "metadata": {
        "id": "-GJ7K3vajpN7"
      }
    }
  ]
}