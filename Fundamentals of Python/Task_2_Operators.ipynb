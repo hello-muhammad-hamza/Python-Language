{
  "nbformat": 4,
  "nbformat_minor": 0,
  "metadata": {
    "colab": {
      "provenance": []
    },
    "kernelspec": {
      "name": "python3",
      "display_name": "Python 3"
    },
    "language_info": {
      "name": "python"
    }
  },
  "cells": [
    {
      "cell_type": "markdown",
      "source": [
        "#***⚡Operators:***\n",
        "\n",
        "\n",
        "---\n",
        "\n",
        "These are some special type of symbols which perform some operations\n",
        "between operands.\n",
        "\n"
      ],
      "metadata": {
        "id": "evc7h1rXQoy4"
      }
    },
    {
      "cell_type": "markdown",
      "source": [
        "#***Arithmetic Operators***    \n",
        "Arithmetic operators are used to deal with numeric values to perform common mathematical operations."
      ],
      "metadata": {
        "id": "lD6DLQHxS7CH"
      }
    },
    {
      "cell_type": "code",
      "source": [
        "a=4\n",
        "b=2\n",
        "print(a+b)    # addition operator\n",
        "print(a-b)    # sub operator\n",
        "print(a*b)    # multiply operator\n",
        "print(a/b)    # divide operator| output ; float result\n",
        "print(a//b)   # floor operator| output ; int result\n",
        "print(a**b)   # power operator\n",
        "print(a%b)    # modulo operator | output ; reminder findout\n"
      ],
      "metadata": {
        "colab": {
          "base_uri": "https://localhost:8080/"
        },
        "id": "ls7OKnxYTWmu",
        "outputId": "e7859514-9a11-4a10-cb77-0ec7ea86d11f"
      },
      "execution_count": null,
      "outputs": [
        {
          "output_type": "stream",
          "name": "stdout",
          "text": [
            "6\n",
            "2\n",
            "8\n",
            "2.0\n",
            "2\n",
            "16\n",
            "0\n"
          ]
        }
      ]
    },
    {
      "cell_type": "markdown",
      "source": [
        "\n",
        "\n",
        "\n",
        " # ***Relational | Comparison Operators***  \n",
        " Comparison operators are used to compare two values,\n",
        " It always return boolean data type."
      ],
      "metadata": {
        "id": "C1K_SQAnTo6R"
      }
    },
    {
      "cell_type": "code",
      "source": [
        "a = 4\n",
        "b = 2\n",
        "print(a==b)         # False\n",
        "print(a!=b)         # True\n",
        "print(a>b)          # True\n",
        "print(a<b)          # False\n",
        "print(a>=b)         # True\n",
        "print(a<=b)         # False"
      ],
      "metadata": {
        "colab": {
          "base_uri": "https://localhost:8080/"
        },
        "id": "Wy7OuiwQUVJb",
        "outputId": "9379ee02-db40-4025-a3ca-9b4fe0affe8c"
      },
      "execution_count": null,
      "outputs": [
        {
          "output_type": "stream",
          "name": "stdout",
          "text": [
            "False\n",
            "True\n",
            "True\n",
            "False\n",
            "True\n",
            "False\n"
          ]
        }
      ]
    },
    {
      "cell_type": "markdown",
      "source": [
        "#***Assignment Operators***   \n",
        "Assignment operators are used to assign values to variables."
      ],
      "metadata": {
        "id": "Q6-D84VzU2qg"
      }
    },
    {
      "cell_type": "code",
      "source": [
        "a = 4\n",
        "a += 2\n",
        "print(\"num:\",a)\n",
        "\n",
        "b = 4\n",
        "b -= 2\n",
        "print(\"num:\",b)\n",
        "\n",
        "c = 4\n",
        "c *= 2\n",
        "print(\"num:\",c)\n",
        "\n",
        "d = 4\n",
        "d /= 2\n",
        "print(\"num:\",d) # floor output\n",
        "\n",
        "d = 4\n",
        "d //= 2\n",
        "print(\"num:\",d) # int ouput\n",
        "\n",
        "e = 4\n",
        "e %= 2\n",
        "print(\"num:\",e)\n",
        "\n",
        "f = 4\n",
        "f **= 2\n",
        "print(\"num:\",f)"
      ],
      "metadata": {
        "colab": {
          "base_uri": "https://localhost:8080/"
        },
        "id": "tj4KoaSnU19o",
        "outputId": "dcaf4f17-8512-4f65-f1f7-c4bad7c4db41"
      },
      "execution_count": null,
      "outputs": [
        {
          "output_type": "stream",
          "name": "stdout",
          "text": [
            "num: 6\n",
            "num: 2\n",
            "num: 8\n",
            "num: 2.0\n",
            "num: 2\n",
            "num: 0\n",
            "num: 16\n"
          ]
        }
      ]
    },
    {
      "cell_type": "markdown",
      "source": [
        "#***Logical Operators***    \n",
        "Logical operators are used to combine conditional statements\n"
      ],
      "metadata": {
        "id": "3Z6dSf4BVY5o"
      }
    },
    {
      "cell_type": "markdown",
      "source": [
        "***The \"and\" operator*** :\n",
        "It returns **True** when both expression are true, otherwise False."
      ],
      "metadata": {
        "id": "i7gmgyW7VwS1"
      }
    },
    {
      "cell_type": "code",
      "source": [
        "\n",
        "a = 33\n",
        "b = 44\n",
        "print(a<b and a!=b)"
      ],
      "metadata": {
        "id": "XTLgMwBLVrun"
      },
      "execution_count": null,
      "outputs": []
    },
    {
      "cell_type": "markdown",
      "source": [
        "**The \"or\" operator** :  \n",
        "It returns **True** when atleast one expression is true, otherwise False."
      ],
      "metadata": {
        "id": "Zc1s5rROWFzt"
      }
    },
    {
      "cell_type": "code",
      "source": [
        "value1= 99\n",
        "value2= 100\n",
        "print(value1<value2 or value1>value2)\n"
      ],
      "metadata": {
        "colab": {
          "base_uri": "https://localhost:8080/"
        },
        "id": "q64FCin7WO9l",
        "outputId": "c8084ad9-0597-4e7a-802a-3287f854f66d"
      },
      "execution_count": null,
      "outputs": [
        {
          "output_type": "stream",
          "name": "stdout",
          "text": [
            "True\n"
          ]
        }
      ]
    },
    {
      "cell_type": "markdown",
      "source": [
        "\n",
        "***The \"not\" operator***:\n",
        "It works against of expression."
      ],
      "metadata": {
        "id": "iNBNRBMoWZQt"
      }
    },
    {
      "cell_type": "code",
      "source": [
        "a = 39\n",
        "b = 49\n",
        "print(not(a<b))    # not operator\n",
        "print(not(False))\n"
      ],
      "metadata": {
        "colab": {
          "base_uri": "https://localhost:8080/"
        },
        "id": "GSajqCA-WduM",
        "outputId": "5e094b5d-10da-4219-8a3b-3bf8be9d23f8"
      },
      "execution_count": null,
      "outputs": [
        {
          "output_type": "stream",
          "name": "stdout",
          "text": [
            "False\n",
            "True\n"
          ]
        }
      ]
    },
    {
      "cell_type": "markdown",
      "source": [
        "#***Membership Operators*** :\n",
        " Membership Operators return True when the specified character is presest, otherwise False."
      ],
      "metadata": {
        "id": "o4wNlDeDWl77"
      }
    },
    {
      "cell_type": "markdown",
      "source": [
        "\n",
        " ***The \"in\" Operator***:\n",
        " It returns True if the specified character is present, otherwise False."
      ],
      "metadata": {
        "id": "1akZSs-CW-Fx"
      }
    },
    {
      "cell_type": "code",
      "source": [
        "str = \"Hello Programming World!\"\n",
        "print(\"H\"in str)"
      ],
      "metadata": {
        "colab": {
          "base_uri": "https://localhost:8080/"
        },
        "id": "j0NKEZRGXHKb",
        "outputId": "6eec6661-37e3-47f7-a0ab-d97936c3d631"
      },
      "execution_count": null,
      "outputs": [
        {
          "output_type": "stream",
          "name": "stdout",
          "text": [
            "True\n"
          ]
        }
      ]
    },
    {
      "cell_type": "markdown",
      "source": [
        "***The \"not in\" Operator***:\n",
        " It returns True if the specified character is not present, otherwise False."
      ],
      "metadata": {
        "id": "QCSqfeOuXMYK"
      }
    },
    {
      "cell_type": "code",
      "source": [
        "str = \"Hello Programming World!\"\n",
        "print(\"h\" not in str)"
      ],
      "metadata": {
        "colab": {
          "base_uri": "https://localhost:8080/"
        },
        "id": "q52puaqOXVv7",
        "outputId": "ebca59b6-469e-469a-ac29-4185fe025a3b"
      },
      "execution_count": null,
      "outputs": [
        {
          "output_type": "stream",
          "name": "stdout",
          "text": [
            "True\n"
          ]
        }
      ]
    },
    {
      "cell_type": "markdown",
      "source": [
        "# ***Bitwise Operators***\n",
        "Bitwise operators are used to compare (binary) numbers through\n",
        "AND(&), OR(|), XOR(^) operator.\n"
      ],
      "metadata": {
        "id": "VKX7a-mtXgB4"
      }
    },
    {
      "cell_type": "code",
      "source": [
        "a = 4\n",
        "b = 2\n",
        "print(bin(a)) # bin function returs the binary representation of an integer\n",
        "print(bin(b))"
      ],
      "metadata": {
        "colab": {
          "base_uri": "https://localhost:8080/"
        },
        "id": "p2yLYjehXnfw",
        "outputId": "7814a339-4972-40aa-bf2c-f5f000b9cc24"
      },
      "execution_count": null,
      "outputs": [
        {
          "output_type": "stream",
          "name": "stdout",
          "text": [
            "0b100\n",
            "0b10\n"
          ]
        }
      ]
    },
    {
      "cell_type": "code",
      "source": [
        "\n",
        "a = 4\n",
        "b = 2\n",
        "print(a&b) # Sets each bit to 1 if both bits are 1\n",
        "print(a|b) # Sets each bit to 1 if one of or both of two bits is 1\n",
        "print(a^b) # Sets each bit to 1 if only one of two bits is 1"
      ],
      "metadata": {
        "colab": {
          "base_uri": "https://localhost:8080/"
        },
        "id": "NuogOPQKXvjH",
        "outputId": "468e5941-509b-477d-ce47-28b8fc39a002"
      },
      "execution_count": null,
      "outputs": [
        {
          "output_type": "stream",
          "name": "stdout",
          "text": [
            "0\n",
            "6\n",
            "6\n"
          ]
        }
      ]
    },
    {
      "cell_type": "markdown",
      "source": [
        "# ***Identity Operato***r:\n",
        " Identity operators are used to compare the objects"
      ],
      "metadata": {
        "id": "35ZAFIPGYT12"
      }
    },
    {
      "cell_type": "markdown",
      "source": [
        " ***The \"is\" Operator:***\n",
        "Returns True if both variables are the same object,otherwise False."
      ],
      "metadata": {
        "id": "3w7FWNj4KBD-"
      }
    },
    {
      "cell_type": "code",
      "source": [
        "x = 10\n",
        "y = 10\n",
        "print(x is y)\n"
      ],
      "metadata": {
        "colab": {
          "base_uri": "https://localhost:8080/"
        },
        "id": "xXvxHYjmKIWO",
        "outputId": "76dafb57-43be-4b4b-9b35-4e5cc988b8bd"
      },
      "execution_count": null,
      "outputs": [
        {
          "output_type": "stream",
          "name": "stdout",
          "text": [
            "True\n"
          ]
        }
      ]
    },
    {
      "cell_type": "markdown",
      "source": [
        " ***The \"is not\" Operator:***\n",
        " Returns True if both variables are not the same object,otherwise Fals"
      ],
      "metadata": {
        "id": "2K_iUTZKKSN9"
      }
    },
    {
      "cell_type": "code",
      "source": [
        "x = 22\n",
        "y = 10\n",
        "print(x is not y)\n"
      ],
      "metadata": {
        "colab": {
          "base_uri": "https://localhost:8080/"
        },
        "id": "AD1dbPWlKWPW",
        "outputId": "71734a2d-a193-40e9-bba0-a32e6a2a7acb"
      },
      "execution_count": null,
      "outputs": [
        {
          "output_type": "stream",
          "name": "stdout",
          "text": [
            "True\n"
          ]
        }
      ]
    },
    {
      "cell_type": "markdown",
      "source": [
        "\n",
        "***Python Operator Precedence (Highest to Lowest)***\n",
        "![image.png](data:image/png;base64,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)"
      ],
      "metadata": {
        "id": "4Ohy0LIEKZ7N"
      }
    },
    {
      "cell_type": "markdown",
      "source": [
        "## ***⦿ 𝐓𝐚𝐬𝐤_𝟐 𝐄𝐧𝐝 ✅***"
      ],
      "metadata": {
        "id": "lDOKHImdbEQH"
      }
    }
  ]
}